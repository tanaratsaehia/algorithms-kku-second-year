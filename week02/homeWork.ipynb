{
 "cells": [
  {
   "cell_type": "code",
   "execution_count": 1,
   "metadata": {},
   "outputs": [
    {
     "name": "stdout",
     "output_type": "stream",
     "text": [
      "กรอกให้ถูกประเภทด้วยเด้อ\n",
      "วิชา: math \tหน่วยกิต: 3 \tเกรดที่ใด้: 3.5\n",
      "วิชา: eng \tหน่วยกิต: 2 \tเกรดที่ใด้: 2.5\n",
      "วิชา: com pro \tหน่วยกิต: 3 \tเกรดที่ใด้: 3.5\n",
      "เกรดเฉลี่ยคือ: 3.25\n"
     ]
    }
   ],
   "source": [
    "# input data part\n",
    "data = []\n",
    "while True:\n",
    "    try :\n",
    "        name = str(input(\"ชื่อวิชา(กรอก q เพื่อหยุด): \"))\n",
    "        if name == \"q\":\n",
    "            break\n",
    "        credit = int(input(\"จำนวนหน่วยกิต: \"))\n",
    "        grade = float(input(\"เกรดที่ใด้: \"))\n",
    "        if grade in [0, 1, 1.5, 2, 2.5, 3, 3.5, 4]:\n",
    "            data.append([name, credit, grade])\n",
    "        else:\n",
    "            print(\"เกรดไม่ได้อยู่ในช่วงที่กำหนด(0, 1, 1.5, 2, 2.5, 3, 3.5, 4) กรอกใหม่จ้า\")\n",
    "    except :\n",
    "        print(\"กรอกให้ถูกประเภทด้วยเด้อ\")\n",
    "\n",
    "# calculate and display part\n",
    "if len(data) > 0:\n",
    "    x = 0\n",
    "    y = 0\n",
    "    for i in data:\n",
    "        name, credit, grade = i\n",
    "        y += credit * grade\n",
    "        x += credit\n",
    "        print(\"วิชา:\", name, \"\\tหน่วยกิต:\", credit, \"\\tเกรดที่ใด้:\",grade)\n",
    "    gpa = y / x\n",
    "    print(f\"เกรดเฉลี่ยคือ: %.2f\"% gpa)\n",
    "else:\n",
    "    print(\"กรอกข้อมูลให้หน่อยจ้า\")"
   ]
  }
 ],
 "metadata": {
  "kernelspec": {
   "display_name": "Python 3",
   "language": "python",
   "name": "python3"
  },
  "language_info": {
   "codemirror_mode": {
    "name": "ipython",
    "version": 3
   },
   "file_extension": ".py",
   "mimetype": "text/x-python",
   "name": "python",
   "nbconvert_exporter": "python",
   "pygments_lexer": "ipython3",
   "version": "3.11.8"
  }
 },
 "nbformat": 4,
 "nbformat_minor": 2
}
