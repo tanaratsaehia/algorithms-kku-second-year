{
 "cells": [
  {
   "cell_type": "code",
   "execution_count": 1,
   "metadata": {},
   "outputs": [],
   "source": [
    "def bubble_sort(data:list, inverse:bool=False) -> list:\n",
    "    for _ in range(len(data)):\n",
    "        for j in range(len(data)):\n",
    "            if j < len(data)-1 and (data[j] < data[j+1] if inverse else data[j] > data[j+1]):\n",
    "                data[j], data[j+1] = data[j+1], data[j]\n",
    "    return data"
   ]
  },
  {
   "cell_type": "code",
   "execution_count": 5,
   "metadata": {},
   "outputs": [],
   "source": [
    "def bi_search(data, key):\n",
    "    found = False\n",
    "    low = 0\n",
    "    hi = len(data)-1\n",
    "    round_ = 0\n",
    "    while (low <= hi) and not found:\n",
    "        mid = int((low+hi)/2)\n",
    "        if key == data[mid]:\n",
    "            found = True\n",
    "            round_+=1\n",
    "        else:\n",
    "            if key<data[mid]:\n",
    "                hi=mid-1\n",
    "                round_+=1\n",
    "            else:\n",
    "                low=mid+1\n",
    "                round_+=1\n",
    "    if found:\n",
    "        index = mid\n",
    "    else:\n",
    "        index = -1\n",
    "    return index"
   ]
  },
  {
   "cell_type": "code",
   "execution_count": 6,
   "metadata": {},
   "outputs": [
    {
     "data": {
      "text/plain": [
       "[0, 1, 2, 3, 4, 5, 5, 6, 8, 9]"
      ]
     },
     "execution_count": 6,
     "metadata": {},
     "output_type": "execute_result"
    }
   ],
   "source": [
    "data = [8,4,5,3,6,0,2,5,9,1]\n",
    "data = bubble_sort(data)\n",
    "data"
   ]
  },
  {
   "cell_type": "code",
   "execution_count": 7,
   "metadata": {},
   "outputs": [
    {
     "data": {
      "text/plain": [
       "3"
      ]
     },
     "execution_count": 7,
     "metadata": {},
     "output_type": "execute_result"
    }
   ],
   "source": [
    "bi_search(data, 3)"
   ]
  },
  {
   "cell_type": "code",
   "execution_count": 17,
   "metadata": {},
   "outputs": [
    {
     "name": "stdout",
     "output_type": "stream",
     "text": [
      "Select menu\n",
      "\t1.add data\n",
      "\t2.search\n",
      "\ttype 'e' for exit\n",
      "from input: [0, 2, 3, 7, 8, 9]\n",
      "Select menu\n",
      "\t1.add data\n",
      "\t2.search\n",
      "\ttype 'e' for exit\n",
      "data '7' found at index '3'\n",
      "Select menu\n",
      "\t1.add data\n",
      "\t2.search\n",
      "\ttype 'e' for exit\n",
      "please input 1 or 2\n",
      "please input 1 or 2\n",
      "Select menu\n",
      "\t1.add data\n",
      "\t2.search\n",
      "\ttype 'e' for exit\n"
     ]
    }
   ],
   "source": [
    "while True:\n",
    "    print(\"Select menu\")\n",
    "    print(\"\\t1.add data\")\n",
    "    print(\"\\t2.search\")\n",
    "    print(\"\\ttype 'e' for exit\")\n",
    "    try:\n",
    "        selected_option = input(\"type '1' or '2' here: \")\n",
    "        if selected_option == 'e':\n",
    "            break\n",
    "        selected_option = int(selected_option)\n",
    "    except:\n",
    "        print(\"please input 1 or 2\")\n",
    "    \n",
    "    if selected_option == 1:\n",
    "        data = input(\"fill number separate by space bar (2 3 1) :\")\n",
    "        data = data.split(\" \")\n",
    "        data = [int(i) for i in data]\n",
    "        data = bubble_sort(data)\n",
    "        print(\"sorted data:\", data)\n",
    "    elif selected_option == 2:\n",
    "        key = input(\"fill number to find in data: \")\n",
    "        try:\n",
    "            key = int(key)\n",
    "        except:\n",
    "            print(\"input int only\")\n",
    "        \n",
    "        result_index = bi_search(data, key)\n",
    "        if result_index == -1:\n",
    "            print(f\"data '{key}' not found\")\n",
    "        else:\n",
    "            print(f\"data '{key}' found at index '{result_index}'\")\n",
    "    else:\n",
    "        print(\"please input 1 or 2\")"
   ]
  }
 ],
 "metadata": {
  "kernelspec": {
   "display_name": "Python 3",
   "language": "python",
   "name": "python3"
  },
  "language_info": {
   "codemirror_mode": {
    "name": "ipython",
    "version": 3
   },
   "file_extension": ".py",
   "mimetype": "text/x-python",
   "name": "python",
   "nbconvert_exporter": "python",
   "pygments_lexer": "ipython3",
   "version": "3.11.8"
  }
 },
 "nbformat": 4,
 "nbformat_minor": 2
}
