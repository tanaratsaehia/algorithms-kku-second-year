{
 "cells": [
  {
   "cell_type": "code",
   "execution_count": 139,
   "metadata": {},
   "outputs": [],
   "source": [
    "class Sort():\n",
    "    def __init__(self) -> None:\n",
    "        pass\n",
    "    \n",
    "    def selection_sort(self, data:list, inverse:bool=False) -> list:\n",
    "        for i in range(len(data)):\n",
    "            tmp_index = i\n",
    "            for j in range(i, len(data)):\n",
    "                if data[j] > data[tmp_index] if inverse else data[j] < data[tmp_index]:\n",
    "                    tmp_index = j\n",
    "            data[i], data[tmp_index] = data[tmp_index], data[i]\n",
    "        # return data\n",
    "    \n",
    "    def bubble_sort(self, data:list, inverse:bool=False) -> list:\n",
    "        for _ in range(len(data)):\n",
    "            for j in range(len(data)-1):\n",
    "                if (data[j] < data[j+1] if inverse else data[j] > data[j+1]):\n",
    "                    data[j], data[j+1] = data[j+1], data[j]\n",
    "        # return data\n",
    "    \n",
    "    def insert_sort(self, data:list, inverse:bool=False) -> list:\n",
    "        for i in range(1, len(data)):\n",
    "            current_value = data[i]\n",
    "            position = i\n",
    "            while position > 0 and (data[position - 1] < current_value if inverse else data[position - 1] > current_value):\n",
    "                data[position] = data[position - 1]\n",
    "                position -= 1\n",
    "            data[position] = current_value\n",
    "        # return data"
   ]
  },
  {
   "cell_type": "code",
   "execution_count": 124,
   "metadata": {},
   "outputs": [],
   "source": [
    "class Sort():\n",
    "    def __init__(self) -> None:\n",
    "        pass\n",
    "    \n",
    "    def selection_sort(self, data:list, inverse:bool=False) -> list:\n",
    "        print('default data', data)\n",
    "        for i in range(len(data)):\n",
    "            tmp_index = i\n",
    "            for j in range(i, len(data)):\n",
    "                if data[j] > data[tmp_index] if inverse else data[j] < data[tmp_index]:\n",
    "                    tmp_index = j\n",
    "            print(f'select index {tmp_index} value -> {data[tmp_index]}  to change with index {i} value -> {data[i]}')\n",
    "            print('data after change ->', data, '\\n')\n",
    "            data[i], data[tmp_index] = data[tmp_index], data[i]\n",
    "        # return data\n",
    "    \n",
    "    def bubble_sort(self, data:list, inverse:bool=False) -> list:\n",
    "        print('default data', data)\n",
    "        for _ in range(len(data)):\n",
    "            for j in range(len(data)):\n",
    "                if j < len(data)-1 and (data[j] < data[j+1] if inverse else data[j] > data[j+1]):\n",
    "                    print(f'change data between {data[j]} and {data[j+1]}')\n",
    "                    data[j], data[j+1] = data[j+1], data[j]\n",
    "                    print('current data ->', data, '\\n')\n",
    "        # return data\n",
    "    \n",
    "    def insert_sort(self, data:list, inverse:bool=False) -> list:\n",
    "        flag = False\n",
    "        for i in range(1, len(data)):\n",
    "            current_value = data[i]\n",
    "            position = i\n",
    "            while position > 0 and (data[position - 1] < current_value if inverse else data[position - 1] > current_value):\n",
    "                tmp = data.copy()\n",
    "                if not flag:\n",
    "                    print(f'current data', tmp)\n",
    "                data[position] = data[position - 1]\n",
    "                position -= 1\n",
    "                \n",
    "                if not flag:\n",
    "                    print(f'try swape data to currect index now i={i}')\n",
    "                else:\n",
    "                    print(f'data swaping {tmp} -> {data}')\n",
    "                flag = True\n",
    "            \n",
    "            if flag:\n",
    "                flag = False\n",
    "                tmp = data.copy()\n",
    "                data[position] = current_value\n",
    "                print(f'update data {tmp} -> {data}\\n')\n",
    "        # return data"
   ]
  },
  {
   "cell_type": "code",
   "execution_count": 140,
   "metadata": {},
   "outputs": [
    {
     "data": {
      "text/plain": [
       "[0, 1, 2, 3, 6, 8, 9]"
      ]
     },
     "execution_count": 140,
     "metadata": {},
     "output_type": "execute_result"
    }
   ],
   "source": [
    "srt = Sort()\n",
    "data=[1,6,8,2,3,9,0]\n",
    "srt.selection_sort(data)\n",
    "data"
   ]
  },
  {
   "cell_type": "code",
   "execution_count": 141,
   "metadata": {},
   "outputs": [
    {
     "data": {
      "text/plain": [
       "[0, 1, 2, 3, 6, 8, 9]"
      ]
     },
     "execution_count": 141,
     "metadata": {},
     "output_type": "execute_result"
    }
   ],
   "source": [
    "data=[1,6,8,2,3,9,0]\n",
    "srt.bubble_sort(data)\n",
    "data"
   ]
  },
  {
   "cell_type": "code",
   "execution_count": 119,
   "metadata": {},
   "outputs": [
    {
     "data": {
      "text/plain": [
       "[0, 1, 2, 3, 6, 8, 9]"
      ]
     },
     "execution_count": 119,
     "metadata": {},
     "output_type": "execute_result"
    }
   ],
   "source": [
    "data=[1,6,8,2,3,9,0]\n",
    "srt.insert_sort(data, inverse=False)\n",
    "data"
   ]
  },
  {
   "cell_type": "code",
   "execution_count": 145,
   "metadata": {},
   "outputs": [
    {
     "data": {
      "text/plain": [
       "int"
      ]
     },
     "execution_count": 145,
     "metadata": {},
     "output_type": "execute_result"
    }
   ],
   "source": [
    "a = 3\n",
    "type((1*a)+1)"
   ]
  },
  {
   "cell_type": "code",
   "execution_count": null,
   "metadata": {},
   "outputs": [],
   "source": [
    "def insert_sort(data):\n",
    "    for i in range(len(data)):\n",
    "        tmp_value = data[i]\n",
    "        position = i\n",
    "        while (position > 0) and data[position] < data[position-1]:\n",
    "            data"
   ]
  }
 ],
 "metadata": {
  "kernelspec": {
   "display_name": "Python 3",
   "language": "python",
   "name": "python3"
  },
  "language_info": {
   "codemirror_mode": {
    "name": "ipython",
    "version": 3
   },
   "file_extension": ".py",
   "mimetype": "text/x-python",
   "name": "python",
   "nbconvert_exporter": "python",
   "pygments_lexer": "ipython3",
   "version": "3.9.5"
  }
 },
 "nbformat": 4,
 "nbformat_minor": 2
}
