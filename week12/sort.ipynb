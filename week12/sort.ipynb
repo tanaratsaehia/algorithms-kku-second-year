{
 "cells": [
  {
   "cell_type": "code",
   "execution_count": 50,
   "metadata": {},
   "outputs": [],
   "source": [
    "class Sort():\n",
    "    def __init__(self) -> None:\n",
    "        pass\n",
    "    \n",
    "    def selection_sort(self, data:list, inverse:bool=False) -> list:\n",
    "        for i in range(len(data)):\n",
    "            tmp_index = i\n",
    "            for j in range(i, len(data)):\n",
    "                if data[j] > data[tmp_index] if inverse else data[j] < data[tmp_index]:\n",
    "                    tmp_index = j\n",
    "            data[i], data[tmp_index] = data[tmp_index], data[i]\n",
    "        return data\n",
    "    \n",
    "    def bubble_sort(self, data:list, inverse:bool=False) -> list:\n",
    "        for _ in range(len(data)):\n",
    "            for j in range(len(data)):\n",
    "                if j < len(data)-1:\n",
    "                    if data[j] < data[j+1] if inverse else data[j] > data[j+1]:\n",
    "                        data[j], data[j+1] = data[j+1], data[j]\n",
    "        return data\n",
    "    \n",
    "    def insert_sort(self, data:list, inverse:bool=False) -> list:\n",
    "        for i in range(1, len(data)):\n",
    "            temp = data[i]\n",
    "            tmp_index = 0\n",
    "            shif_flag = False\n",
    "            for j in range(0, i+1):\n",
    "                if data[i] < data[j]:\n",
    "                    # shift here\n",
    "                    pass\n",
    "        return data[::-1] if inverse else data"
   ]
  },
  {
   "cell_type": "code",
   "execution_count": 53,
   "metadata": {},
   "outputs": [
    {
     "data": {
      "text/plain": [
       "[0, 1, 2, 3, 6, 8, 9]"
      ]
     },
     "execution_count": 53,
     "metadata": {},
     "output_type": "execute_result"
    }
   ],
   "source": [
    "srt = Sort()\n",
    "srt.selection_sort(data=[1,6,8,2,3,9,0], inverse=False)"
   ]
  },
  {
   "cell_type": "code",
   "execution_count": 52,
   "metadata": {},
   "outputs": [
    {
     "data": {
      "text/plain": [
       "[9, 8, 6, 3, 2, 1, 0]"
      ]
     },
     "execution_count": 52,
     "metadata": {},
     "output_type": "execute_result"
    }
   ],
   "source": [
    "srt.bubble_sort(data=[1,6,8,2,3,9,0], inverse=True)"
   ]
  },
  {
   "cell_type": "code",
   "execution_count": 44,
   "metadata": {},
   "outputs": [
    {
     "name": "stdout",
     "output_type": "stream",
     "text": [
      "[1, 6, 8, 2, 3, 9, 0]\n",
      "[1, 6, 8, 2, 3, 9, 0]\n",
      "[1, 8, 2, 3, 9, 0, 0]\n",
      "[1, 8, 2, 3, 9, 0, 0]\n",
      "[8, 2, 3, 9, 0, 0, 0]\n",
      "[2, 3, 9, 0, 0, 0, 0]\n"
     ]
    },
    {
     "data": {
      "text/plain": [
       "[2, 3, 9, 0, 0, 0, 0]"
      ]
     },
     "execution_count": 44,
     "metadata": {},
     "output_type": "execute_result"
    }
   ],
   "source": [
    "srt.insert_sort(data=[1,6,8,2,3,9,0])"
   ]
  },
  {
   "cell_type": "code",
   "execution_count": null,
   "metadata": {},
   "outputs": [],
   "source": []
  }
 ],
 "metadata": {
  "kernelspec": {
   "display_name": "Python 3",
   "language": "python",
   "name": "python3"
  },
  "language_info": {
   "codemirror_mode": {
    "name": "ipython",
    "version": 3
   },
   "file_extension": ".py",
   "mimetype": "text/x-python",
   "name": "python",
   "nbconvert_exporter": "python",
   "pygments_lexer": "ipython3",
   "version": "3.11.8"
  }
 },
 "nbformat": 4,
 "nbformat_minor": 2
}
