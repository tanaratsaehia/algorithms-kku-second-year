{
 "cells": [
  {
   "cell_type": "code",
   "execution_count": 48,
   "metadata": {},
   "outputs": [],
   "source": [
    "class Sort():\n",
    "    def __init__(self) -> None:\n",
    "        pass\n",
    "    \n",
    "    def selection_sort(self, data:list, inverse:bool=False) -> list:\n",
    "        for i in range(len(data)):\n",
    "            tmp_index = i\n",
    "            for j in range(i, len(data)):\n",
    "                if data[j] > data[tmp_index] if inverse else data[j] < data[tmp_index]:\n",
    "                    tmp_index = j\n",
    "            data[i], data[tmp_index] = data[tmp_index], data[i]\n",
    "        return data\n",
    "    \n",
    "    def bubble_sort(self, data:list, inverse:bool=False) -> list:\n",
    "        for _ in range(len(data)):\n",
    "            for j in range(len(data)):\n",
    "                if j < len(data)-1 and (data[j] < data[j+1] if inverse else data[j] > data[j+1]):\n",
    "                    data[j], data[j+1] = data[j+1], data[j]\n",
    "        return data\n",
    "    \n",
    "    def insert_sort(self, data:list, inverse:bool=False) -> list:\n",
    "        for i in range(1, len(data)):\n",
    "            current_value = data[i]\n",
    "            position = i\n",
    "            while position > 0 and (data[position - 1] < current_value if inverse else data[position - 1] > current_value):\n",
    "                data[position] = data[position - 1]\n",
    "                position -= 1\n",
    "            data[position] = current_value\n",
    "        return data"
   ]
  },
  {
   "cell_type": "code",
   "execution_count": 49,
   "metadata": {},
   "outputs": [
    {
     "data": {
      "text/plain": [
       "[0, 1, 2, 3, 6, 8, 9]"
      ]
     },
     "execution_count": 49,
     "metadata": {},
     "output_type": "execute_result"
    }
   ],
   "source": [
    "srt = Sort()\n",
    "srt.selection_sort(data=[1,6,8,2,3,9,0], inverse=False)"
   ]
  },
  {
   "cell_type": "code",
   "execution_count": 50,
   "metadata": {},
   "outputs": [
    {
     "data": {
      "text/plain": [
       "[9, 8, 6, 3, 2, 1, 0]"
      ]
     },
     "execution_count": 50,
     "metadata": {},
     "output_type": "execute_result"
    }
   ],
   "source": [
    "srt.bubble_sort(data=[1,6,8,2,3,9,0], inverse=True)"
   ]
  },
  {
   "cell_type": "code",
   "execution_count": 51,
   "metadata": {},
   "outputs": [
    {
     "data": {
      "text/plain": [
       "[9, 8, 6, 3, 2, 1, 0]"
      ]
     },
     "execution_count": 51,
     "metadata": {},
     "output_type": "execute_result"
    }
   ],
   "source": [
    "srt.insert_sort(data=[1,6,8,2,3,9,0], inverse=True)"
   ]
  }
 ],
 "metadata": {
  "kernelspec": {
   "display_name": "Python 3",
   "language": "python",
   "name": "python3"
  },
  "language_info": {
   "codemirror_mode": {
    "name": "ipython",
    "version": 3
   },
   "file_extension": ".py",
   "mimetype": "text/x-python",
   "name": "python",
   "nbconvert_exporter": "python",
   "pygments_lexer": "ipython3",
   "version": "3.11.8"
  }
 },
 "nbformat": 4,
 "nbformat_minor": 2
}
