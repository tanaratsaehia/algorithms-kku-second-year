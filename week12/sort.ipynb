{
 "cells": [
  {
   "cell_type": "code",
   "execution_count": 104,
   "metadata": {},
   "outputs": [],
   "source": [
    "class Sort():\n",
    "    def __init__(self) -> None:\n",
    "        pass\n",
    "    \n",
    "    def selection_sort(self, data:list, inverse:bool=False) -> list:\n",
    "        print('default data', data)\n",
    "        for i in range(len(data)):\n",
    "            tmp_index = i\n",
    "            for j in range(i, len(data)):\n",
    "                if data[j] > data[tmp_index] if inverse else data[j] < data[tmp_index]:\n",
    "                    tmp_index = j\n",
    "            print(f'select index {tmp_index} value -> {data[tmp_index]}  to change with index {i} value -> {data[i]}')\n",
    "            print('data after change ->', data, '\\n')\n",
    "            data[i], data[tmp_index] = data[tmp_index], data[i]\n",
    "        # return data\n",
    "    \n",
    "    def bubble_sort(self, data:list, inverse:bool=False) -> list:\n",
    "        print('default data', data)\n",
    "        for _ in range(len(data)):\n",
    "            for j in range(len(data)):\n",
    "                if j < len(data)-1 and (data[j] < data[j+1] if inverse else data[j] > data[j+1]):\n",
    "                    print(f'change data between {data[j]} and {data[j+1]}')\n",
    "                    data[j], data[j+1] = data[j+1], data[j]\n",
    "                    print('current data ->', data, '\\n')\n",
    "        # return data\n",
    "    \n",
    "    def insert_sort(self, data:list, inverse:bool=False) -> list:\n",
    "        flag = False\n",
    "        for i in range(1, len(data)):\n",
    "            current_value = data[i]\n",
    "            position = i\n",
    "            while position > 0 and (data[position - 1] < current_value if inverse else data[position - 1] > current_value):\n",
    "                tmp = data.copy()\n",
    "                data[position] = data[position - 1]\n",
    "                position -= 1\n",
    "                \n",
    "                if not flag:\n",
    "                    print(f'try swape data to currect index now i={i}')\n",
    "                else:\n",
    "                    print(f'data swaping {tmp} -> {data}')\n",
    "                flag = True\n",
    "            \n",
    "            if flag:\n",
    "                flag = False\n",
    "                tmp = data.copy()\n",
    "                data[position] = current_value\n",
    "                print(f'update data {tmp} -> {data}\\n')\n",
    "        # return data"
   ]
  },
  {
   "cell_type": "code",
   "execution_count": 105,
   "metadata": {},
   "outputs": [
    {
     "name": "stdout",
     "output_type": "stream",
     "text": [
      "default data [1, 6, 8, 2, 3, 9, 0]\n",
      "select index 6 value -> 0  to change with index 0 value -> 1\n",
      "data after change -> [1, 6, 8, 2, 3, 9, 0] \n",
      "\n",
      "select index 6 value -> 1  to change with index 1 value -> 6\n",
      "data after change -> [0, 6, 8, 2, 3, 9, 1] \n",
      "\n",
      "select index 3 value -> 2  to change with index 2 value -> 8\n",
      "data after change -> [0, 1, 8, 2, 3, 9, 6] \n",
      "\n",
      "select index 4 value -> 3  to change with index 3 value -> 8\n",
      "data after change -> [0, 1, 2, 8, 3, 9, 6] \n",
      "\n",
      "select index 6 value -> 6  to change with index 4 value -> 8\n",
      "data after change -> [0, 1, 2, 3, 8, 9, 6] \n",
      "\n",
      "select index 6 value -> 8  to change with index 5 value -> 9\n",
      "data after change -> [0, 1, 2, 3, 6, 9, 8] \n",
      "\n",
      "select index 6 value -> 9  to change with index 6 value -> 9\n",
      "data after change -> [0, 1, 2, 3, 6, 8, 9] \n",
      "\n"
     ]
    },
    {
     "data": {
      "text/plain": [
       "[0, 1, 2, 3, 6, 8, 9]"
      ]
     },
     "execution_count": 105,
     "metadata": {},
     "output_type": "execute_result"
    }
   ],
   "source": [
    "srt = Sort()\n",
    "data=[1,6,8,2,3,9,0]\n",
    "srt.selection_sort(data)\n",
    "data"
   ]
  },
  {
   "cell_type": "code",
   "execution_count": 106,
   "metadata": {},
   "outputs": [
    {
     "name": "stdout",
     "output_type": "stream",
     "text": [
      "default data [1, 6, 8, 2, 3, 9, 0]\n",
      "change data between 8 and 2\n",
      "current data -> [1, 6, 2, 8, 3, 9, 0] \n",
      "\n",
      "change data between 8 and 3\n",
      "current data -> [1, 6, 2, 3, 8, 9, 0] \n",
      "\n",
      "change data between 9 and 0\n",
      "current data -> [1, 6, 2, 3, 8, 0, 9] \n",
      "\n",
      "change data between 6 and 2\n",
      "current data -> [1, 2, 6, 3, 8, 0, 9] \n",
      "\n",
      "change data between 6 and 3\n",
      "current data -> [1, 2, 3, 6, 8, 0, 9] \n",
      "\n",
      "change data between 8 and 0\n",
      "current data -> [1, 2, 3, 6, 0, 8, 9] \n",
      "\n",
      "change data between 6 and 0\n",
      "current data -> [1, 2, 3, 0, 6, 8, 9] \n",
      "\n",
      "change data between 3 and 0\n",
      "current data -> [1, 2, 0, 3, 6, 8, 9] \n",
      "\n",
      "change data between 2 and 0\n",
      "current data -> [1, 0, 2, 3, 6, 8, 9] \n",
      "\n",
      "change data between 1 and 0\n",
      "current data -> [0, 1, 2, 3, 6, 8, 9] \n",
      "\n"
     ]
    },
    {
     "data": {
      "text/plain": [
       "[0, 1, 2, 3, 6, 8, 9]"
      ]
     },
     "execution_count": 106,
     "metadata": {},
     "output_type": "execute_result"
    }
   ],
   "source": [
    "data=[1,6,8,2,3,9,0]\n",
    "srt.bubble_sort(data)\n",
    "data"
   ]
  },
  {
   "cell_type": "code",
   "execution_count": 107,
   "metadata": {},
   "outputs": [
    {
     "name": "stdout",
     "output_type": "stream",
     "text": [
      "try swape data to currect index now i=3\n",
      "data swaping [1, 6, 8, 8, 3, 9, 0] -> [1, 6, 6, 8, 3, 9, 0]\n",
      "update data [1, 6, 6, 8, 3, 9, 0] -> [1, 2, 6, 8, 3, 9, 0]\n",
      "\n",
      "try swape data to currect index now i=4\n",
      "data swaping [1, 2, 6, 8, 8, 9, 0] -> [1, 2, 6, 6, 8, 9, 0]\n",
      "update data [1, 2, 6, 6, 8, 9, 0] -> [1, 2, 3, 6, 8, 9, 0]\n",
      "\n",
      "try swape data to currect index now i=6\n",
      "data swaping [1, 2, 3, 6, 8, 9, 9] -> [1, 2, 3, 6, 8, 8, 9]\n",
      "data swaping [1, 2, 3, 6, 8, 8, 9] -> [1, 2, 3, 6, 6, 8, 9]\n",
      "data swaping [1, 2, 3, 6, 6, 8, 9] -> [1, 2, 3, 3, 6, 8, 9]\n",
      "data swaping [1, 2, 3, 3, 6, 8, 9] -> [1, 2, 2, 3, 6, 8, 9]\n",
      "data swaping [1, 2, 2, 3, 6, 8, 9] -> [1, 1, 2, 3, 6, 8, 9]\n",
      "update data [1, 1, 2, 3, 6, 8, 9] -> [0, 1, 2, 3, 6, 8, 9]\n",
      "\n"
     ]
    },
    {
     "data": {
      "text/plain": [
       "[0, 1, 2, 3, 6, 8, 9]"
      ]
     },
     "execution_count": 107,
     "metadata": {},
     "output_type": "execute_result"
    }
   ],
   "source": [
    "data=[1,6,8,2,3,9,0]\n",
    "srt.insert_sort(data, inverse=False)\n",
    "data"
   ]
  },
  {
   "cell_type": "code",
   "execution_count": null,
   "metadata": {},
   "outputs": [],
   "source": []
  }
 ],
 "metadata": {
  "kernelspec": {
   "display_name": "Python 3",
   "language": "python",
   "name": "python3"
  },
  "language_info": {
   "codemirror_mode": {
    "name": "ipython",
    "version": 3
   },
   "file_extension": ".py",
   "mimetype": "text/x-python",
   "name": "python",
   "nbconvert_exporter": "python",
   "pygments_lexer": "ipython3",
   "version": "3.9.5"
  }
 },
 "nbformat": 4,
 "nbformat_minor": 2
}
