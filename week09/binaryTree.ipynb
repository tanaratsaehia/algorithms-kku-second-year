{
 "cells": [
  {
   "cell_type": "code",
   "execution_count": null,
   "metadata": {},
   "outputs": [],
   "source": [
    "!pip install anytree"
   ]
  },
  {
   "cell_type": "code",
   "execution_count": 3,
   "metadata": {},
   "outputs": [],
   "source": [
    "from anytree import Node, RenderTree\n",
    "import math\n",
    "some_list = [0, 1, 2, 3, 4, 5, 6]"
   ]
  },
  {
   "cell_type": "code",
   "execution_count": 45,
   "metadata": {},
   "outputs": [],
   "source": [
    "# for binary tree only\n",
    "class TreeArr():\n",
    "    def __init__(self, data:list=[0, 1, 2, 3, 4, 5, 6]) -> None:\n",
    "        self.data = data\n",
    "    \n",
    "    def find_child(self, parent:any) -> None:\n",
    "        \"\"\"input data to find child node\"\"\"\n",
    "        if parent in self.data:\n",
    "            index = self.data.index(parent)\n",
    "            parent_level = self.calculate_level(index)\n",
    "            try:\n",
    "                root = Node(f\"{parent} level({parent_level})\")\n",
    "                child1 = Node(f\"{self.data[(2*index)+1]} level({parent_level+1})\", parent=root)\n",
    "                child2 = Node(f\"{self.data[(2*index)+2]} level({parent_level+1})\", parent=root)\n",
    "                print(\"found child at\")\n",
    "                for pre, _, node in RenderTree(root):\n",
    "                    print(f\"{pre}{node.name}\")\n",
    "            except:\n",
    "                print(f\"'{parent}' has no child at level({parent_level})\")\n",
    "        else:\n",
    "            print(f\"can't find '{parent}' in data\")\n",
    "    \n",
    "    def calculate_level(self, index:int) -> None:\n",
    "        \"\"\"power by chat gpt\"\"\"\n",
    "        return math.floor(math.log2(index + 1))\n",
    "    \n",
    "    def display_tree(self) -> None:\n",
    "        \"\"\"display tree\"\"\"\n",
    "        temp_tree = [Node(f\"{self.data[0]} level(0)\")]\n",
    "        level = 0\n",
    "        for i in range(1, len(self.data)):\n",
    "            if self.calculate_level(i) != level:\n",
    "                level+=1\n",
    "            if i%2 == 0:\n",
    "                parent_index = (i/2)-1\n",
    "            else:\n",
    "                parent_index = (i/2)-0.5\n",
    "            temp_tree.append(Node(f\"{self.data[i]} level({level})\", parent=temp_tree[int(parent_index)]))\n",
    "        for pre, _, node in RenderTree(temp_tree[0]):\n",
    "                    print(f\"{pre}{node.name}\")"
   ]
  },
  {
   "cell_type": "code",
   "execution_count": 46,
   "metadata": {},
   "outputs": [
    {
     "name": "stdout",
     "output_type": "stream",
     "text": [
      "found child at\n",
      "C level(1)\n",
      "├── F level(2)\n",
      "└── G level(2)\n"
     ]
    }
   ],
   "source": [
    "# tree = TreeArr()\n",
    "# tree = TreeArr(data=['A','B','C','D','E','F','G'])\n",
    "tree = TreeArr(data=['A','B','C','D','E',\"F\",'G','H','I','J','K','L','M','N','O','P','Q','R','S','T','U','V','W','X','Y','Z'])\n",
    "tree.find_child('C')"
   ]
  },
  {
   "cell_type": "code",
   "execution_count": 47,
   "metadata": {},
   "outputs": [
    {
     "name": "stdout",
     "output_type": "stream",
     "text": [
      "A level(0)\n",
      "├── B level(1)\n",
      "│   ├── D level(2)\n",
      "│   │   ├── H level(3)\n",
      "│   │   │   ├── P level(4)\n",
      "│   │   │   └── Q level(4)\n",
      "│   │   └── I level(3)\n",
      "│   │       ├── R level(4)\n",
      "│   │       └── S level(4)\n",
      "│   └── E level(2)\n",
      "│       ├── J level(3)\n",
      "│       │   ├── T level(4)\n",
      "│       │   └── U level(4)\n",
      "│       └── K level(3)\n",
      "│           ├── V level(4)\n",
      "│           └── W level(4)\n",
      "└── C level(1)\n",
      "    ├── F level(2)\n",
      "    │   ├── L level(3)\n",
      "    │   │   ├── X level(4)\n",
      "    │   │   └── Y level(4)\n",
      "    │   └── M level(3)\n",
      "    │       └── Z level(4)\n",
      "    └── G level(2)\n",
      "        ├── N level(3)\n",
      "        └── O level(3)\n"
     ]
    }
   ],
   "source": [
    "tree.display_tree()"
   ]
  },
  {
   "cell_type": "code",
   "execution_count": 164,
   "metadata": {},
   "outputs": [],
   "source": [
    "class NodeLink():\n",
    "    def __init__(self, data:any) -> None:\n",
    "        self.data = data\n",
    "        self.left = None\n",
    "        self.right = None\n",
    "        self.parent = None\n",
    "\n",
    "class TreeLinkList():\n",
    "    def __init__(self) -> None:\n",
    "        self.root = None\n",
    "        self.N = None\n",
    "    \n",
    "    def create_tree(self, data:list) -> None:\n",
    "        \"\"\"for list only\"\"\"\n",
    "        temp_node = NodeLink(data[0])\n",
    "        self.root = temp_node\n",
    "        self.N = len(data)\n",
    "        child_node = []\n",
    "        level = 0\n",
    "        for i in range(1, len(data)):\n",
    "            if self.calculate_level(i) != level:\n",
    "                # print(data[i])\n",
    "                level+=1\n",
    "                if len(child_node)>0:\n",
    "                    temp_node = child_node[0]\n",
    "                    del child_node[0]\n",
    "            if temp_node.left and temp_node.right:\n",
    "                temp_node = child_node[0]\n",
    "                if i % 2 == 0:\n",
    "                    temp_node.right = NodeLink(data[i])\n",
    "                    temp_node.right.parent = temp_node\n",
    "                    child_node.append(temp_node.right)\n",
    "                else:\n",
    "                    temp_node.left = NodeLink(data[i])\n",
    "                    temp_node.left.parent = temp_node\n",
    "                    child_node.append(temp_node.left)\n",
    "                del child_node[0]\n",
    "            else:\n",
    "                if i % 2 == 0:\n",
    "                    temp_node.right = NodeLink(data[i])\n",
    "                    temp_node.right.parent = temp_node\n",
    "                    child_node.append(temp_node.right)\n",
    "                else:\n",
    "                    temp_node.left = NodeLink(data[i])\n",
    "                    temp_node.left.parent = temp_node\n",
    "                    child_node.append(temp_node.left)\n",
    "    \n",
    "    def calculate_level(self, index:int) -> None:\n",
    "        \"\"\"power by chat gpt\"\"\"\n",
    "        return math.floor(math.log2(index + 1))\n",
    "\n",
    "    def display_tree(self) -> None:\n",
    "        \"\"\"display tree\"\"\"\n",
    "        temp_node = self.root\n",
    "        temp_tree = [Node(f\"{temp_node.data} level(0)\")]\n",
    "        level = 0\n",
    "        child_node = []\n",
    "        for i in range(1, self.N):\n",
    "            if self.calculate_level(i) != level:\n",
    "                level+=1\n",
    "                if len(child_node)>0:\n",
    "                    temp_node = child_node[0]\n",
    "                    del child_node[0]\n",
    "            if i % 2 == 0:\n",
    "                parent_index = (i/2)-1\n",
    "                temp_tree.append(Node(f\"{temp_node.right.data} level({level})\", parent=temp_tree[int(parent_index)]))\n",
    "                child_node.append(temp_node.right)\n",
    "            else:\n",
    "                parent_index = (i/2)-0.5\n",
    "                temp_tree.append(Node(f\"{temp_node.left.data} level({level})\", parent=temp_tree[int(parent_index)]))\n",
    "                child_node.append(temp_node.left)\n",
    "        for pre, _, node in RenderTree(temp_tree[0]):\n",
    "                    print(f\"{pre}{node.name}\")"
   ]
  },
  {
   "cell_type": "code",
   "execution_count": 165,
   "metadata": {},
   "outputs": [],
   "source": [
    "tree = TreeLinkList()\n",
    "# tree.create_tree([0,1,2,3,4,5,6])\n",
    "tree.create_tree(['A','B','C','D','E',\"F\",'G','H','I','J','K','L','M','N','O','P','Q','R','S','T','U','V','W','X','Y','Z'])"
   ]
  },
  {
   "cell_type": "code",
   "execution_count": 166,
   "metadata": {},
   "outputs": [
    {
     "name": "stdout",
     "output_type": "stream",
     "text": [
      "A level(0)\n",
      "├── B level(1)\n",
      "│   ├── D level(2)\n",
      "│   │   ├── F level(3)\n",
      "│   │   │   ├── H level(4)\n",
      "│   │   │   └── I level(4)\n",
      "│   │   └── G level(3)\n",
      "│   │       ├── H level(4)\n",
      "│   │       └── I level(4)\n",
      "│   └── E level(2)\n",
      "│       ├── F level(3)\n",
      "│       │   ├── H level(4)\n",
      "│       │   └── I level(4)\n",
      "│       └── G level(3)\n",
      "│           ├── H level(4)\n",
      "│           └── I level(4)\n",
      "└── C level(1)\n",
      "    ├── D level(2)\n",
      "    │   ├── F level(3)\n",
      "    │   │   ├── H level(4)\n",
      "    │   │   └── I level(4)\n",
      "    │   └── G level(3)\n",
      "    │       └── H level(4)\n",
      "    └── E level(2)\n",
      "        ├── F level(3)\n",
      "        └── G level(3)\n"
     ]
    }
   ],
   "source": [
    "tree.display_tree()"
   ]
  }
 ],
 "metadata": {
  "kernelspec": {
   "display_name": "Python 3",
   "language": "python",
   "name": "python3"
  },
  "language_info": {
   "codemirror_mode": {
    "name": "ipython",
    "version": 3
   },
   "file_extension": ".py",
   "mimetype": "text/x-python",
   "name": "python",
   "nbconvert_exporter": "python",
   "pygments_lexer": "ipython3",
   "version": "3.11.8"
  }
 },
 "nbformat": 4,
 "nbformat_minor": 2
}
