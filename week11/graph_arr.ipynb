{
 "cells": [
  {
   "cell_type": "code",
   "execution_count": 105,
   "metadata": {},
   "outputs": [],
   "source": [
    "class GraphArr():\n",
    "    def __init__(self, n:int) -> None:\n",
    "        self.graph = self.generate_graph(n)\n",
    "    \n",
    "    def generate_graph(self, n:int) -> list:\n",
    "        nodes = [chr(65 + i) for i in range(n)]\n",
    "        graph = []\n",
    "        for node in nodes:\n",
    "            adj_list = [{other_node: 0} for other_node in nodes]\n",
    "            graph.append({node: adj_list})\n",
    "        return graph\n",
    "    \n",
    "    def add_edge(self, node:str, target:str) -> None:\n",
    "        for row in range(len(self.graph)):\n",
    "            if list(self.graph[row].keys())[0] == node:\n",
    "                for col in range(len(list(self.graph[row].values())[0])):\n",
    "                    if list(self.graph[row][node][col].keys())[0] == target:\n",
    "                        # print(\"old\", self.graph[row][node][col])\n",
    "                        self.graph[row][node][col] = {target: 1}\n",
    "                        # print(\"new\",self.graph[row][node][col])\n",
    "                        return\n",
    "                print(f\"target {target} not found\")\n",
    "                return\n",
    "        print(f\"node {node} not found\")\n",
    "    \n",
    "    def delete_edge(self, node:str, target:str) -> None:\n",
    "        for row in range(len(self.graph)):\n",
    "            if list(self.graph[row].keys())[0] == node:\n",
    "                for col in range(len(list(self.graph[row].values())[0])):\n",
    "                    if list(self.graph[row][node][col].keys())[0] == target:\n",
    "                        # print(\"old\", self.graph[row][node][col])\n",
    "                        self.graph[row][node][col] = {target: 0}\n",
    "                        # print(\"new\",self.graph[row][node][col])\n",
    "                        return\n",
    "                print(f\"target {target} not found\")\n",
    "                return\n",
    "        print(f\"node {node} not found\")\n",
    "    \n",
    "    def show_edge(self, flag:bool=True) -> list:\n",
    "        edge = []\n",
    "        for row in range(len(self.graph)):\n",
    "            for col in range(len(list(self.graph[row].values())[0])):\n",
    "                if list(list(self.graph[row].values())[0][col].values())[0] == 1:\n",
    "                    edge.append(str(list(self.graph[row].keys())[0])+'->'+str(list(list(self.graph[row].values())[0][col].keys())[0]))\n",
    "                # print(list(list(self.graph[row].values())[0][col].values())[0])\n",
    "        if flag and len(edge) > 0:\n",
    "            print(\"edge\", end=\" \")\n",
    "            print(\" and \".join(edge))\n",
    "        return edge"
   ]
  },
  {
   "cell_type": "code",
   "execution_count": 125,
   "metadata": {},
   "outputs": [
    {
     "data": {
      "text/plain": [
       "[{'A': [{'A': 0}, {'B': 0}, {'C': 0}]},\n",
       " {'B': [{'A': 0}, {'B': 0}, {'C': 0}]},\n",
       " {'C': [{'A': 0}, {'B': 0}, {'C': 0}]}]"
      ]
     },
     "execution_count": 125,
     "metadata": {},
     "output_type": "execute_result"
    }
   ],
   "source": [
    "graph = GraphArr(3)\n",
    "graph.graph"
   ]
  },
  {
   "cell_type": "code",
   "execution_count": 126,
   "metadata": {},
   "outputs": [
    {
     "name": "stdout",
     "output_type": "stream",
     "text": [
      "edge A->B and A->C and B->C\n"
     ]
    },
    {
     "data": {
      "text/plain": [
       "['A->B', 'A->C', 'B->C']"
      ]
     },
     "execution_count": 126,
     "metadata": {},
     "output_type": "execute_result"
    }
   ],
   "source": [
    "graph.add_edge('A', 'B')\n",
    "graph.add_edge('A', 'C')\n",
    "graph.add_edge('B', 'C')\n",
    "graph.show_edge()"
   ]
  },
  {
   "cell_type": "code",
   "execution_count": 127,
   "metadata": {},
   "outputs": [
    {
     "name": "stdout",
     "output_type": "stream",
     "text": [
      "edge A->C and B->C\n"
     ]
    },
    {
     "data": {
      "text/plain": [
       "['A->C', 'B->C']"
      ]
     },
     "execution_count": 127,
     "metadata": {},
     "output_type": "execute_result"
    }
   ],
   "source": [
    "graph.delete_edge('A', 'B')\n",
    "graph.show_edge()"
   ]
  }
 ],
 "metadata": {
  "kernelspec": {
   "display_name": "Python 3",
   "language": "python",
   "name": "python3"
  },
  "language_info": {
   "codemirror_mode": {
    "name": "ipython",
    "version": 3
   },
   "file_extension": ".py",
   "mimetype": "text/x-python",
   "name": "python",
   "nbconvert_exporter": "python",
   "pygments_lexer": "ipython3",
   "version": "3.11.8"
  }
 },
 "nbformat": 4,
 "nbformat_minor": 2
}
