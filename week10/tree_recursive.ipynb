{
 "cells": [
  {
   "cell_type": "code",
   "execution_count": 3,
   "metadata": {},
   "outputs": [],
   "source": [
    "# !pip install anytree"
   ]
  },
  {
   "cell_type": "code",
   "execution_count": null,
   "metadata": {},
   "outputs": [],
   "source": [
    "from anytree import Node, RenderTree\n",
    "import math"
   ]
  },
  {
   "cell_type": "code",
   "execution_count": 25,
   "metadata": {},
   "outputs": [],
   "source": [
    "# for binary tree only\n",
    "class TreeArr():\n",
    "    def __init__(self, data) -> None:\n",
    "        self.data = data\n",
    "        self.stack = []\n",
    "    \n",
    "    def find_child(self, parent:any) -> None:\n",
    "        \"\"\"input data to find child node\"\"\"\n",
    "        if parent in self.data:\n",
    "            index = self.data.index(parent)\n",
    "            parent_level = self.calculate_level(index)\n",
    "            try:\n",
    "                root = Node(f\"{parent} level({parent_level})\")\n",
    "                child1 = Node(f\"{self.data[(2*index)+1]} level({parent_level+1})\", parent=root)\n",
    "                child2 = Node(f\"{self.data[(2*index)+2]} level({parent_level+1})\", parent=root)\n",
    "                print(\"found child at\")\n",
    "                for pre, _, node in RenderTree(root):\n",
    "                    print(f\"{pre}{node.name}\")\n",
    "            except:\n",
    "                print(f\"'{parent}' has no child at level({parent_level})\")\n",
    "        else:\n",
    "            print(f\"can't find '{parent}' in data\")\n",
    "    \n",
    "    def calculate_level(self, index:int) -> None:\n",
    "        \"\"\"power by chat gpt\"\"\"\n",
    "        return math.floor(math.log2(index + 1))\n",
    "    \n",
    "    def display_tree(self) -> None:\n",
    "        \"\"\"display tree\"\"\"\n",
    "        temp_tree = [Node(f\"{self.data[0]} level(0)\")]\n",
    "        level = 0\n",
    "        for i in range(1, len(self.data)):\n",
    "            if self.calculate_level(i) != level:\n",
    "                level+=1\n",
    "            if self.data[i]: # recheck none\n",
    "                temp_tree.append(Node(f\"{self.data[i]} level({level})\", parent=temp_tree[int((i/2)-1) if i%2==0 else int((i/2)-0.5)]))\n",
    "        for pre, _, node in RenderTree(temp_tree[0]):\n",
    "            print(f\"{pre}{node.name}\")\n",
    "    \n",
    "    def trav_post_order(self, index):\n",
    "        if self.data[index] == None:\n",
    "            return\n",
    "        self.trav_post_order(int((2*index)+1)) # left\n",
    "        self.trav_post_order(int((2*index)+2)) # right\n",
    "        self.stack.append(self.data[index])\n",
    "        # print(self.data[index])\n",
    "\n",
    "    def calculate_post_order(self):\n",
    "        print('stack data ->', self.stack)\n",
    "        temp_stack = []\n",
    "        for i in range(len(self.stack)):\n",
    "            try:\n",
    "                self.stack[i] = float(self.stack[i])\n",
    "            except:\n",
    "                pass\n",
    "            if i>1:\n",
    "                if not (type(self.stack[0]) == float and type(self.stack[1]) == float):\n",
    "                    print(\"input wrong format\")\n",
    "                    return\n",
    "                elif (i % 2 == 0) and (type(self.stack[i]) != str):\n",
    "                    # print(\"input wrong format\")\n",
    "                    # return\n",
    "                    pass\n",
    "            if type(self.stack[i]) == float:\n",
    "                print(\"..step\",i+1,\"push\",self.stack[i],\"into stack\")\n",
    "                temp_stack.append(self.stack[i])\n",
    "            elif type(self.stack[i]) == str:\n",
    "                operand_2 = temp_stack.pop()\n",
    "                operand_1 = temp_stack.pop()\n",
    "                \n",
    "                if self.stack[i] == \"+\":\n",
    "                    result = operand_1 + operand_2\n",
    "                    print(\"..step\",i+1,\"calculate and push result into stack with :\",operand_1,\"+\",operand_2,\"=\",result)\n",
    "                    temp_stack.append(result)\n",
    "                elif self.stack[i] == \"-\":\n",
    "                    result = operand_1 - operand_2\n",
    "                    print(\"..step\",i+1,\"calculate and push result into stack with :\",operand_1,\"-\",operand_2,\"=\",result)\n",
    "                    temp_stack.append(result)\n",
    "                elif self.stack[i] == \"*\":\n",
    "                    result = operand_1 * operand_2\n",
    "                    print(\"..step\",i+1,\"calculate and push result into stack with :\",operand_1,\"*\",operand_2,\"=\",result)\n",
    "                    temp_stack.append(result)\n",
    "                elif self.stack[i] == \"/\":\n",
    "                    result = operand_1 / operand_2\n",
    "                    print(\"..step\",i+1,\"calculate and push result into stack with :\",operand_1,\"/\",operand_2,\"=\",result)\n",
    "                    temp_stack.append(result)\n",
    "                else:\n",
    "                    print(\"invalid operator\")\n",
    "                    return\n",
    "        print(\"final result is\", temp_stack.pop())"
   ]
  },
  {
   "cell_type": "code",
   "execution_count": 26,
   "metadata": {},
   "outputs": [
    {
     "name": "stdout",
     "output_type": "stream",
     "text": [
      "* level(0)\n",
      "├── - level(1)\n",
      "│   ├── 3 level(2)\n",
      "│   └── 4 level(2)\n",
      "└── + level(1)\n",
      "    ├── 5 level(2)\n",
      "    └── 6 level(2)\n"
     ]
    }
   ],
   "source": [
    "tree_list = TreeArr(['*','-','+',3,4,5,6,None,None,None,None,None,None,None,None])\n",
    "tree_list.display_tree()"
   ]
  },
  {
   "cell_type": "code",
   "execution_count": 27,
   "metadata": {},
   "outputs": [
    {
     "name": "stdout",
     "output_type": "stream",
     "text": [
      "stack data -> [3, 4, '-', 5, 6, '+', '*']\n",
      "..step 1 push 3.0 into stack\n",
      "..step 2 push 4.0 into stack\n",
      "..step 3 calculate and push result into stack with : 3.0 - 4.0 = -1.0\n",
      "..step 4 push 5.0 into stack\n",
      "..step 5 push 6.0 into stack\n",
      "..step 6 calculate and push result into stack with : 5.0 + 6.0 = 11.0\n",
      "..step 7 calculate and push result into stack with : -1.0 * 11.0 = -11.0\n",
      "final result is -11.0\n"
     ]
    }
   ],
   "source": [
    "tree_list.trav_post_order(0)\n",
    "tree_list.calculate_post_order()"
   ]
  },
  {
   "cell_type": "code",
   "execution_count": 3,
   "metadata": {},
   "outputs": [],
   "source": [
    "class NodeLink():\n",
    "    def __init__(self, data:any) -> None:\n",
    "        self.data = data\n",
    "        self.left = None\n",
    "        self.right = None\n",
    "        self.parent = None\n",
    "\n",
    "class TreeLinkList():\n",
    "    def __init__(self) -> None:\n",
    "        self.root = None\n",
    "        self.N = None\n",
    "        self.stack = []\n",
    "    \n",
    "    def create_tree(self, data:list) -> None:\n",
    "        \"\"\"for list only\"\"\"\n",
    "        temp_node = NodeLink(data[0])\n",
    "        self.root = temp_node\n",
    "        self.N = len(data)\n",
    "        child_node = []\n",
    "        level = 0\n",
    "        for i in range(1, len(data)):\n",
    "            # print(data[i])\n",
    "            if data[i]:\n",
    "                if self.calculate_level(i) != level:\n",
    "                    # print(data[i])\n",
    "                    level+=1\n",
    "                    if len(child_node)>0:\n",
    "                        temp_node = child_node.pop(0)\n",
    "                if temp_node.left and temp_node.right:\n",
    "                    temp_node = child_node.pop(0)\n",
    "                    if i % 2 == 0:\n",
    "                        temp_node.right = NodeLink(data[i])\n",
    "                        temp_node.right.parent = temp_node\n",
    "                        child_node.append(temp_node.right)\n",
    "                    else:\n",
    "                        temp_node.left = NodeLink(data[i])\n",
    "                        temp_node.left.parent = temp_node\n",
    "                        child_node.append(temp_node.left)\n",
    "                else:\n",
    "                    if i % 2 == 0:\n",
    "                        temp_node.right = NodeLink(data[i])\n",
    "                        temp_node.right.parent = temp_node\n",
    "                        child_node.append(temp_node.right)\n",
    "                    else:\n",
    "                        temp_node.left = NodeLink(data[i])\n",
    "                        temp_node.left.parent = temp_node\n",
    "                        child_node.append(temp_node.left)\n",
    "    \n",
    "    def trav_post_order(self, node):\n",
    "        if not node:\n",
    "            return\n",
    "        self.trav_post_order(node.left)\n",
    "        self.trav_post_order(node.right)\n",
    "        self.stack.append(node.data)\n",
    "        print(node.data)\n",
    "    \n",
    "    def calculate_level(self, index:int) -> None:\n",
    "        \"\"\"power by chat gpt\"\"\"\n",
    "        return math.floor(math.log2(index + 1))\n",
    "    \n",
    "    def display_tree(self) -> None:\n",
    "        \"\"\"Display tree in a structured way.\"\"\"\n",
    "        if not self.root:\n",
    "            print(\"Tree is empty!\")\n",
    "            return\n",
    "        temp_node = self.root\n",
    "        temp_tree = [Node(f\"{temp_node.data} level(0)\")]\n",
    "        child_node = [(temp_node, 0)]\n",
    "        while child_node:\n",
    "            current, level = child_node.pop(0)\n",
    "            if current.left:\n",
    "                child_node.append((current.left, level + 1))\n",
    "                temp_tree.append(Node(f\"{current.left.data} level({level + 1})\", parent=temp_tree[len(temp_tree) - len(child_node)]))\n",
    "            if current.right:\n",
    "                child_node.append((current.right, level + 1))\n",
    "                temp_tree.append(Node(f\"{current.right.data} level({level + 1})\", parent=temp_tree[len(temp_tree) - len(child_node)]))\n",
    "        for pre, _, node in RenderTree(temp_tree[0]):\n",
    "            print(f\"{pre}{node.name}\")"
   ]
  },
  {
   "cell_type": "code",
   "execution_count": 4,
   "metadata": {},
   "outputs": [
    {
     "name": "stdout",
     "output_type": "stream",
     "text": [
      "A level(0)\n",
      "├── B level(1)\n",
      "│   ├── D level(2)\n",
      "│   └── E level(2)\n",
      "└── C level(1)\n",
      "    ├── F level(2)\n",
      "    └── G level(2)\n"
     ]
    }
   ],
   "source": [
    "tree_link_list = TreeLinkList()\n",
    "tree_link_list.create_tree(['A','B','C', 'D', 'E', 'F', 'G'])\n",
    "# tree_link_list.create_tree(['*','-','+',3,4,5,6])\n",
    "# tree_link_list.create_tree(['*','-','+',3,4,5,6,None,None,None,None,None,None,None,None])\n",
    "tree_link_list.display_tree()"
   ]
  },
  {
   "cell_type": "code",
   "execution_count": 5,
   "metadata": {},
   "outputs": [
    {
     "name": "stdout",
     "output_type": "stream",
     "text": [
      "D\n",
      "E\n",
      "B\n",
      "F\n",
      "G\n",
      "C\n",
      "A\n"
     ]
    },
    {
     "data": {
      "text/plain": [
       "['D', 'E', 'B', 'F', 'G', 'C', 'A']"
      ]
     },
     "execution_count": 5,
     "metadata": {},
     "output_type": "execute_result"
    }
   ],
   "source": [
    "tree_link_list.trav_post_order(tree_link_list.root)\n",
    "tree_link_list.stack"
   ]
  },
  {
   "cell_type": "code",
   "execution_count": null,
   "metadata": {},
   "outputs": [],
   "source": []
  }
 ],
 "metadata": {
  "kernelspec": {
   "display_name": "Python 3",
   "language": "python",
   "name": "python3"
  },
  "language_info": {
   "codemirror_mode": {
    "name": "ipython",
    "version": 3
   },
   "file_extension": ".py",
   "mimetype": "text/x-python",
   "name": "python",
   "nbconvert_exporter": "python",
   "pygments_lexer": "ipython3",
   "version": "3.8.10"
  }
 },
 "nbformat": 4,
 "nbformat_minor": 2
}
