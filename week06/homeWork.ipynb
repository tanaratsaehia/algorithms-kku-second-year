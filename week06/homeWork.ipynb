{
 "cells": [
  {
   "cell_type": "code",
   "execution_count": null,
   "metadata": {},
   "outputs": [],
   "source": [
    "# insert put update delete and search with Singly linked lists"
   ]
  },
  {
   "cell_type": "code",
   "execution_count": 330,
   "metadata": {},
   "outputs": [],
   "source": [
    "from tabulate import tabulate\n",
    "\n",
    "class Node():\n",
    "    def __init__(self, data:any) -> None:\n",
    "        self.data = data\n",
    "        self.next = None\n",
    "\n",
    "class QLinkList():\n",
    "    def __init__(self) -> None:\n",
    "        self.head = None\n",
    "        self.tail = None\n",
    "    \n",
    "    def enqueue(self, data:any) -> None:\n",
    "        \"\"\"just enqueue put new data to end of queue\"\"\"\n",
    "        temp = Node(data)\n",
    "        if self.head == None:\n",
    "            self.head = temp\n",
    "            self.tail = self.head\n",
    "        else:\n",
    "            self.tail.next = temp\n",
    "            self.tail = self.tail.next\n",
    "    \n",
    "    def dequeue(self) -> any:\n",
    "        \"\"\"just dequeue return data in front of queue\"\"\"\n",
    "        temp = self.head\n",
    "        if self.head == None:\n",
    "            print(\"Queue under flow\")\n",
    "            return\n",
    "        elif self.head.next == None:\n",
    "            self.head = None\n",
    "            return temp.data\n",
    "        else:\n",
    "            self.head = self.head.next\n",
    "            return temp.data\n",
    "    \n",
    "    def insert(self, data:any, where:int) -> None:\n",
    "        \"\"\"where mean what index of data you wanna put new data in front of it\"\"\"\n",
    "        new = Node(data)\n",
    "        if where > 0:\n",
    "            current = self.head\n",
    "            temp = current\n",
    "            for _ in range(where):\n",
    "                temp = current\n",
    "                if current.next == None:\n",
    "                    print(\"index out of range\")\n",
    "                else:\n",
    "                    current = current.next\n",
    "            temp.next = new\n",
    "            new.next = current\n",
    "        elif where == 0:\n",
    "            temp = self.head\n",
    "            self.head = new\n",
    "            self.head.next = temp\n",
    "        else:\n",
    "            print(\"index should be >= 0\")\n",
    "    \n",
    "    def update(self, data:any, where:int) -> None:\n",
    "        \"\"\"where mean what index of data you wanna update it\"\"\"\n",
    "        if where > 0:\n",
    "            temp = self.head\n",
    "            for _ in range(where):\n",
    "                temp = temp.next\n",
    "            temp.data = data\n",
    "        elif where == 0:\n",
    "            self.head.data = data\n",
    "        else:\n",
    "            print(\"index should be >= 0\")\n",
    "    \n",
    "    def delete(self, where:int) -> None:\n",
    "        \"\"\"where mean what index of data you wanna delete it\"\"\"\n",
    "        if where > 0:\n",
    "            current = self.head\n",
    "            temp = current\n",
    "            for _ in range(where):\n",
    "                temp = current\n",
    "                current = current.next\n",
    "            temp.next = current.next\n",
    "    \n",
    "    def search(self, where:any) -> dict:\n",
    "        \"\"\"where mean what kind of data you wanna find it\"\"\"\n",
    "        index = -1\n",
    "        current = self.head\n",
    "        if current != None:\n",
    "            while current != None:\n",
    "                index += 1\n",
    "                print(current.data)\n",
    "                if current.data == where:\n",
    "                    return {'index':index, 'obj':current}\n",
    "                current = current.next\n",
    "        print(\"can't match data (\"+str(where)+\") in queue\")\n",
    "    \n",
    "    def displayQ(self) -> None:\n",
    "        \"\"\"show all data in queue\"\"\"\n",
    "        if self.head != None:\n",
    "            table_data = [['Index', 'Value']]\n",
    "            current = self.head\n",
    "            index = -1\n",
    "            while current != None:\n",
    "                index += 1\n",
    "                table_data.append([index, current.data])\n",
    "                current = current.next\n",
    "            print(tabulate(table_data, headers='firstrow', tablefmt='fancy_grid'))\n",
    "        else:\n",
    "            print(\"Queue in empty\")\n"
   ]
  },
  {
   "cell_type": "code",
   "execution_count": 331,
   "metadata": {},
   "outputs": [],
   "source": [
    "q = QLinkList()\n",
    "# q.__dir__()\n",
    "q.enqueue(1)\n",
    "q.enqueue(2)\n",
    "q.enqueue(3)\n",
    "q.enqueue(4)\n",
    "q.enqueue(5)"
   ]
  },
  {
   "cell_type": "code",
   "execution_count": 283,
   "metadata": {},
   "outputs": [],
   "source": [
    "q.insert(data=8, where=4)"
   ]
  },
  {
   "cell_type": "code",
   "execution_count": 247,
   "metadata": {},
   "outputs": [],
   "source": [
    "q.update(data=10, where=0)"
   ]
  },
  {
   "cell_type": "code",
   "execution_count": 325,
   "metadata": {},
   "outputs": [],
   "source": [
    "q.delete(4)"
   ]
  },
  {
   "cell_type": "code",
   "execution_count": 327,
   "metadata": {},
   "outputs": [
    {
     "name": "stdout",
     "output_type": "stream",
     "text": [
      "1\n",
      "2\n",
      "3\n",
      "4\n",
      "can't match data (5) in queue\n"
     ]
    }
   ],
   "source": [
    "q.search(5)"
   ]
  },
  {
   "cell_type": "code",
   "execution_count": 333,
   "metadata": {},
   "outputs": [
    {
     "data": {
      "text/plain": [
       "1"
      ]
     },
     "execution_count": 333,
     "metadata": {},
     "output_type": "execute_result"
    }
   ],
   "source": [
    "q.dequeue()"
   ]
  },
  {
   "cell_type": "code",
   "execution_count": 334,
   "metadata": {},
   "outputs": [
    {
     "name": "stdout",
     "output_type": "stream",
     "text": [
      "╒═════════╤═════════╕\n",
      "│   Index │   Value │\n",
      "╞═════════╪═════════╡\n",
      "│       0 │       2 │\n",
      "├─────────┼─────────┤\n",
      "│       1 │       3 │\n",
      "├─────────┼─────────┤\n",
      "│       2 │       4 │\n",
      "├─────────┼─────────┤\n",
      "│       3 │       5 │\n",
      "╘═════════╧═════════╛\n"
     ]
    }
   ],
   "source": [
    "q.displayQ()"
   ]
  },
  {
   "cell_type": "code",
   "execution_count": 267,
   "metadata": {},
   "outputs": [],
   "source": [
    "q.enqueue(1)\n",
    "q.enqueue(2)\n",
    "q.enqueue(3)\n",
    "q.enqueue(4)\n",
    "q.enqueue(5)"
   ]
  }
 ],
 "metadata": {
  "kernelspec": {
   "display_name": "Python 3",
   "language": "python",
   "name": "python3"
  },
  "language_info": {
   "codemirror_mode": {
    "name": "ipython",
    "version": 3
   },
   "file_extension": ".py",
   "mimetype": "text/x-python",
   "name": "python",
   "nbconvert_exporter": "python",
   "pygments_lexer": "ipython3",
   "version": "3.11.8"
  }
 },
 "nbformat": 4,
 "nbformat_minor": 2
}
