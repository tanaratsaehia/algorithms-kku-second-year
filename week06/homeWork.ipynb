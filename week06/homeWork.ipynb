{
 "cells": [
  {
   "cell_type": "code",
   "execution_count": null,
   "metadata": {},
   "outputs": [],
   "source": [
    "# insert put update delete and search with Singly linked lists"
   ]
  },
  {
   "cell_type": "code",
   "execution_count": 330,
   "metadata": {},
   "outputs": [],
   "source": [
    "from tabulate import tabulate\n",
    "\n",
    "class Node():\n",
    "    def __init__(self, data:any) -> None:\n",
    "        self.data = data\n",
    "        self.next = None\n",
    "\n",
    "class QLinkList():\n",
    "    def __init__(self) -> None:\n",
    "        self.head = None\n",
    "        self.tail = None\n",
    "    \n",
    "    def enqueue(self, data:any) -> None:\n",
    "        \"\"\"just enqueue put new data to end of queue\"\"\"\n",
    "        temp = Node(data)\n",
    "        if self.head == None:\n",
    "            self.head = temp\n",
    "            self.tail = self.head\n",
    "        else:\n",
    "            self.tail.next = temp\n",
    "            self.tail = self.tail.next\n",
    "    \n",
    "    def dequeue(self) -> any:\n",
    "        \"\"\"just dequeue return data in front of queue\"\"\"\n",
    "        temp = self.head\n",
    "        if self.head == None:\n",
    "            print(\"Queue under flow\")\n",
    "            return\n",
    "        elif self.head.next == None:\n",
    "            self.head = None\n",
    "            return temp.data\n",
    "        else:\n",
    "            self.head = self.head.next\n",
    "            return temp.data\n",
    "    \n",
    "    def insert(self, data:any, where:int) -> None:\n",
    "        \"\"\"where mean what index of data you wanna put new data in front of it\"\"\"\n",
    "        new = Node(data)\n",
    "        if where > 0:\n",
    "            current = self.head\n",
    "            temp = current\n",
    "            for _ in range(where):\n",
    "                temp = current\n",
    "                if current.next == None:\n",
    "                    print(\"index out of range\")\n",
    "                else:\n",
    "                    current = current.next\n",
    "            temp.next = new\n",
    "            new.next = current\n",
    "        elif where == 0:\n",
    "            temp = self.head\n",
    "            self.head = new\n",
    "            self.head.next = temp\n",
    "        else:\n",
    "            print(\"index should be >= 0\")\n",
    "    \n",
    "    def update(self, data:any, where:int) -> None:\n",
    "        \"\"\"where mean what index of data you wanna update it\"\"\"\n",
    "        if where > 0:\n",
    "            temp = self.head\n",
    "            for _ in range(where):\n",
    "                temp = temp.next\n",
    "            temp.data = data\n",
    "        elif where == 0:\n",
    "            self.head.data = data\n",
    "        else:\n",
    "            print(\"index should be >= 0\")\n",
    "    \n",
    "    def delete(self, where:int) -> None:\n",
    "        \"\"\"where mean what index of data you wanna delete it\"\"\"\n",
    "        if where > 0:\n",
    "            current = self.head\n",
    "            temp = current\n",
    "            for _ in range(where):\n",
    "                temp = current\n",
    "                current = current.next\n",
    "            temp.next = current.next\n",
    "    \n",
    "    def search(self, where:any) -> dict:\n",
    "        \"\"\"where mean what kind of data you wanna find it\"\"\"\n",
    "        index = -1\n",
    "        current = self.head\n",
    "        if current != None:\n",
    "            while current != None:\n",
    "                index += 1\n",
    "                print(current.data)\n",
    "                if current.data == where:\n",
    "                    return {'index':index, 'obj':current}\n",
    "                current = current.next\n",
    "        print(\"can't match data (\"+str(where)+\") in queue\")\n",
    "    \n",
    "    def displayQ(self) -> None:\n",
    "        \"\"\"show all data in queue\"\"\"\n",
    "        if self.head != None:\n",
    "            table_data = [['Index', 'Value']]\n",
    "            current = self.head\n",
    "            index = -1\n",
    "            while current != None:\n",
    "                index += 1\n",
    "                table_data.append([index, current.data])\n",
    "                current = current.next\n",
    "            print(tabulate(table_data, headers='firstrow', tablefmt='fancy_grid'))\n",
    "        else:\n",
    "            print(\"Queue is empty\")\n"
   ]
  },
  {
   "cell_type": "code",
   "execution_count": 331,
   "metadata": {},
   "outputs": [],
   "source": [
    "q = QLinkList()\n",
    "# q.__dir__()\n",
    "q.enqueue(1)\n",
    "q.enqueue(2)\n",
    "q.enqueue(3)\n",
    "q.enqueue(4)\n",
    "q.enqueue(5)"
   ]
  },
  {
   "cell_type": "code",
   "execution_count": 283,
   "metadata": {},
   "outputs": [],
   "source": [
    "q.insert(data=8, where=4)"
   ]
  },
  {
   "cell_type": "code",
   "execution_count": 247,
   "metadata": {},
   "outputs": [],
   "source": [
    "q.update(data=10, where=0)"
   ]
  },
  {
   "cell_type": "code",
   "execution_count": 325,
   "metadata": {},
   "outputs": [],
   "source": [
    "q.delete(4)"
   ]
  },
  {
   "cell_type": "code",
   "execution_count": 327,
   "metadata": {},
   "outputs": [
    {
     "name": "stdout",
     "output_type": "stream",
     "text": [
      "1\n",
      "2\n",
      "3\n",
      "4\n",
      "can't match data (5) in queue\n"
     ]
    }
   ],
   "source": [
    "q.search(5)"
   ]
  },
  {
   "cell_type": "code",
   "execution_count": 333,
   "metadata": {},
   "outputs": [
    {
     "data": {
      "text/plain": [
       "1"
      ]
     },
     "execution_count": 333,
     "metadata": {},
     "output_type": "execute_result"
    }
   ],
   "source": [
    "q.dequeue()"
   ]
  },
  {
   "cell_type": "code",
   "execution_count": 334,
   "metadata": {},
   "outputs": [
    {
     "name": "stdout",
     "output_type": "stream",
     "text": [
      "╒═════════╤═════════╕\n",
      "│   Index │   Value │\n",
      "╞═════════╪═════════╡\n",
      "│       0 │       2 │\n",
      "├─────────┼─────────┤\n",
      "│       1 │       3 │\n",
      "├─────────┼─────────┤\n",
      "│       2 │       4 │\n",
      "├─────────┼─────────┤\n",
      "│       3 │       5 │\n",
      "╘═════════╧═════════╛\n"
     ]
    }
   ],
   "source": [
    "q.displayQ()"
   ]
  },
  {
   "cell_type": "code",
   "execution_count": 267,
   "metadata": {},
   "outputs": [],
   "source": [
    "q.enqueue(1)\n",
    "q.enqueue(2)\n",
    "q.enqueue(3)\n",
    "q.enqueue(4)\n",
    "q.enqueue(5)"
   ]
  },
  {
   "cell_type": "code",
   "execution_count": null,
   "metadata": {},
   "outputs": [],
   "source": [
    "queue = QLinkList()\n",
    "main_menu = [\"1.enqueue\", \"2.dequeue\", \"3.insert queue\", \"4.delete queue\", \"5.update data in queue\", \"6.display all data in queue\", \"7.exit\"]\n",
    "\n",
    "while True:\n",
    "    print(\"\\nSelect menu\")\n",
    "    print('   ' + '\\n   '.join(main_menu))\n",
    "    try:\n",
    "        selected_op = int(input(\"Input number of menu : \"))\n",
    "    except:\n",
    "        print(\"Pls input number!\")\n",
    "        continue\n",
    "    \n",
    "    if selected_op in [1, 2, 3, 4, 5, 6, 7]:\n",
    "        if selected_op == 1:\n",
    "            print(\"\\nEnqueue selected\")\n",
    "            while True:\n",
    "                data = input(\"Enqueue, Input data sep by comma(1,2,3,4,5) or 'e' for back to main menu : \")\n",
    "                if data == \"e\" or data == \"E\":\n",
    "                    break\n",
    "                data = data.split(\",\")\n",
    "                for i in data:\n",
    "                    queue.enqueue(data=i)\n",
    "                print(\"Enqueue success\")\n",
    "                queue.displayQ()\n",
    "        \n",
    "        elif selected_op == 2:\n",
    "            print(\"\\nDequeue selected\")\n",
    "            tmp_q = queue.dequeue()\n",
    "            if tmp_q != None:\n",
    "                print(\"result is\", tmp_q)\n",
    "        \n",
    "        elif selected_op == 3:\n",
    "            print(\"\\nInsert queue selected\")\n",
    "            if queue.head != None:\n",
    "                while True:\n",
    "                    queue.displayQ()\n",
    "                    print(\"Insert queue, Shoose index what you wanna put new data in front of it\")\n",
    "                    new_data = input(\"Input index and new data sep by comma(1,'cat') or 'e' for back to main menu : \")\n",
    "                    if new_data == \"e\" or new_data == \"E\":\n",
    "                        break\n",
    "                    new_data = new_data.split(\",\")\n",
    "                    try:\n",
    "                        new_data[0] = int(new_data[0])\n",
    "                        queue.insert(data=new_data[1], where=new_data[0])\n",
    "                    except:\n",
    "                        print(\"Input worng format\")\n",
    "                        continue\n",
    "            else:\n",
    "                print(\"Queue is empty pls enqueue first\")\n",
    "        \n",
    "        elif selected_op == 4:\n",
    "            print(\"\\nDelete queue selected\")\n",
    "            if queue.head != None:\n",
    "                while True:\n",
    "                    queue.displayQ()\n",
    "                    print(\"Delete queue, Shoose index what you wanna delete it\")\n",
    "                    index = input(\"Input index or 'e' for back to main menu : \")\n",
    "                    if index == 'e' or index == 'E':\n",
    "                        break\n",
    "                    try:\n",
    "                        index = int(index)\n",
    "                        queue.delete(index)\n",
    "                        print(\"Queue deleted\")\n",
    "                    except:\n",
    "                        print(\"Input wrong format\")\n",
    "                        continue\n",
    "            else:\n",
    "                print(\"Queue is empty pls enqueue first\")\n",
    "        \n",
    "        elif selected_op == 5:\n",
    "            print(\"\\nUpdate data Selected\")\n",
    "            if queue.head != None:\n",
    "                while True:\n",
    "                    queue.displayQ()\n",
    "                    print(\"Update data, Shoose index what you wanna update it\")\n",
    "                    new_data = input(\"Input index and new data sep by comma(1,'cat') or 'e' for back to main menu :  : \")\n",
    "                    if new_data == 'e' or new_data == 'E':\n",
    "                        break\n",
    "                    new_data = new_data.split(\",\")\n",
    "                    try:\n",
    "                        new_data[0] = int(new_data[0])\n",
    "                        queue.update(new_data[1], new_data[0])\n",
    "                        print(\"data updated\")\n",
    "                    except:\n",
    "                        print(\"Input wrong format\")\n",
    "                        continue\n",
    "            else:\n",
    "                print(\"Queue is empty pls enqueue first\")\n",
    "        \n",
    "        elif selected_op == 6:\n",
    "            print(\"\\nDisplay all data selected\")\n",
    "            if queue.head != None:\n",
    "                queue.displayQ()\n",
    "            else:\n",
    "                print(\"Queue is empty pls enqueue first\")\n",
    "        \n",
    "        elif selected_op == 7:\n",
    "            break\n",
    "    else:\n",
    "        print(\"Menu out of range pls input 1-7\")\n",
    "        continue"
   ]
  }
 ],
 "metadata": {
  "kernelspec": {
   "display_name": "Python 3",
   "language": "python",
   "name": "python3"
  },
  "language_info": {
   "codemirror_mode": {
    "name": "ipython",
    "version": 3
   },
   "file_extension": ".py",
   "mimetype": "text/x-python",
   "name": "python",
   "nbconvert_exporter": "python",
   "pygments_lexer": "ipython3",
   "version": "3.11.8"
  }
 },
 "nbformat": 4,
 "nbformat_minor": 2
}
