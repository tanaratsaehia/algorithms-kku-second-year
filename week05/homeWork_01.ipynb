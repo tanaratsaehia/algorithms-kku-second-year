{
 "cells": [
  {
   "cell_type": "code",
   "execution_count": 8,
   "metadata": {},
   "outputs": [],
   "source": [
    "class CalculateStackNumber():\n",
    "    def __init__(self, size_data=2):\n",
    "        self.top_index = -1\n",
    "        self.postfix_data = \"\"\n",
    "        self.size_data = size_data\n",
    "        self.stack_data = [None]*size_data\n",
    "\n",
    "    def push(self, x):\n",
    "        if self.top_index >= self.size_data-1:\n",
    "            print(\"stack overflow\")\n",
    "        else:\n",
    "            self.top_index += 1\n",
    "            self.stack_data[self.top_index] = x\n",
    "\n",
    "    def pop(self):\n",
    "        if self.top_index == -1:\n",
    "            print(\"stack underflow\")\n",
    "        else:\n",
    "            return_data = self.stack_data[self.top_index]\n",
    "            self.stack_data[self.top_index] = None\n",
    "            self.top_index -= 1\n",
    "            return return_data\n",
    "\n",
    "    def calculate_postfix(self):\n",
    "        if self.postfix_data == \"\":\n",
    "            print(\"postfix data is empty\")\n",
    "            return\n",
    "        print(\"postfix data is\", self.postfix_data)\n",
    "        postfix_data = self.postfix_data.split(\",\")\n",
    "        for i in range(len(postfix_data)):\n",
    "            try:\n",
    "                postfix_data[i] = float(postfix_data[i])\n",
    "            except:\n",
    "                pass\n",
    "            if i>1:\n",
    "                if not (type(postfix_data[0]) == float and type(postfix_data[1]) == float):\n",
    "                    print(\"input wrong format\")\n",
    "                    return\n",
    "                elif (i % 2 == 0) and (type(postfix_data[i]) != str):\n",
    "                    print(\"input wrong format\")\n",
    "                    return\n",
    "            if type(postfix_data[i]) == float:\n",
    "                print(\"step\",i+1,\"push\",postfix_data[i],\"into stack\")\n",
    "                self.push(postfix_data[i])\n",
    "            elif type(postfix_data[i]) == str:\n",
    "                operand_2 = self.pop()\n",
    "                operand_1 = self.pop()\n",
    "                \n",
    "                if postfix_data[i] == \"+\":\n",
    "                    result = operand_1 + operand_2\n",
    "                    print(\"step\",i+1,\"calculate and push result into stack with :\",operand_1,\"+\",operand_2,\"=\",result)\n",
    "                    self.push(result)\n",
    "                elif postfix_data[i] == \"-\":\n",
    "                    result = operand_1 - operand_2\n",
    "                    print(\"step\",i+1,\"calculate and push result into stack with :\",operand_1,\"-\",operand_2,\"=\",result)\n",
    "                    self.push(result)\n",
    "                elif postfix_data[i] == \"*\":\n",
    "                    result = operand_1 * operand_2\n",
    "                    print(\"step\",i+1,\"calculate and push result into stack with :\",operand_1,\"*\",operand_2,\"=\",result)\n",
    "                    self.push(result)\n",
    "                elif postfix_data[i] == \"/\":\n",
    "                    result = operand_1 / operand_2\n",
    "                    print(\"step\",i+1,\"calculate and push result into stack with :\",operand_1,\"/\",operand_2,\"=\",result)\n",
    "                    self.push(result)\n",
    "                else:\n",
    "                    print(\"invalid operator\")\n",
    "                    return\n",
    "        print(\"final result is\", self.pop())\n",
    "\n",
    "# calculate_num_postfix(input_stack)"
   ]
  },
  {
   "cell_type": "code",
   "execution_count": 9,
   "metadata": {},
   "outputs": [
    {
     "name": "stdout",
     "output_type": "stream",
     "text": [
      "postfix data is 10,2,+,5,*,6,-\n",
      "step 1 push 10.0 into stack\n",
      "step 2 push 2.0 into stack\n",
      "step 3 calculate and push result into stack with : 10.0 + 2.0 = 12.0\n",
      "step 4 push 5.0 into stack\n",
      "step 5 calculate and push result into stack with : 12.0 * 5.0 = 60.0\n",
      "step 6 push 6.0 into stack\n",
      "step 7 calculate and push result into stack with : 60.0 - 6.0 = 54.0\n",
      "final result is 54.0\n"
     ]
    }
   ],
   "source": [
    "calStack = CalculateStackNumber()\n",
    "\n",
    "input_data = input(\"input postfix data sep with comma \\nlike 10,6,+,6,-,2,+\")\n",
    "calStack.postfix_data = input_data\n",
    "calStack.calculate_postfix()\n",
    "\n",
    "\n",
    "# 1,+,2"
   ]
  }
 ],
 "metadata": {
  "kernelspec": {
   "display_name": "Python 3",
   "language": "python",
   "name": "python3"
  },
  "language_info": {
   "codemirror_mode": {
    "name": "ipython",
    "version": 3
   },
   "file_extension": ".py",
   "mimetype": "text/x-python",
   "name": "python",
   "nbconvert_exporter": "python",
   "pygments_lexer": "ipython3",
   "version": "3.11.8"
  }
 },
 "nbformat": 4,
 "nbformat_minor": 2
}
