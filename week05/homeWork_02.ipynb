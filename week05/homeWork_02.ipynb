{
 "cells": [
  {
   "cell_type": "code",
   "execution_count": 1,
   "metadata": {},
   "outputs": [],
   "source": [
    "import random"
   ]
  },
  {
   "cell_type": "code",
   "execution_count": 5,
   "metadata": {},
   "outputs": [],
   "source": [
    "class CircularQueue():\n",
    "    def __init__(self, size) -> None:\n",
    "        self.__q_size = size\n",
    "        self.front_index = -1\n",
    "        self.rear_index = -1\n",
    "        self.queue_data = [None]*size\n",
    "    \n",
    "    def enqueue(self, data) -> None:\n",
    "        if (self.rear_index >= self.__q_size - 1 and None not in self.queue_data) or (self.rear_index < self.front_index and self.rear_index + 1 == self.front_index):\n",
    "            print(\"Queue overflow\")\n",
    "        elif (self.rear_index == self.__q_size-1) and (None in self.queue_data):\n",
    "            self.rear_index = 0\n",
    "            self.queue_data[self.rear_index] = data\n",
    "        else:\n",
    "            self.rear_index += 1\n",
    "            self.queue_data[self.rear_index] = data\n",
    "            \n",
    "            if self.front_index == -1:\n",
    "                self.front_index = 0\n",
    "        print(self.queue_data, 'front', self.front_index, 'rear', self.rear_index)\n",
    "    \n",
    "    def dequeue(self) -> any:\n",
    "        if self.front_index == -1 or (self.front_index == self.rear_index and self.queue_data[self.front_index] == None):\n",
    "            print(\"Queue underflow\")\n",
    "            return\n",
    "        elif (self.rear_index < self.front_index) and (self.front_index == self.__q_size-1):\n",
    "            return_data = self.queue_data[self.front_index]\n",
    "            self.queue_data[self.front_index] = None\n",
    "            self.front_index = 0\n",
    "        else:\n",
    "            return_data = self.queue_data[self.front_index]\n",
    "            self.queue_data[self.front_index] = None\n",
    "            if self.front_index == self.rear_index:\n",
    "                self.front_index = -1\n",
    "                self.rear_index = -1\n",
    "            else:\n",
    "                self.front_index += 1\n",
    "        print(self.queue_data, 'front', self.front_index, 'rear', self.rear_index)\n",
    "        return return_data\n",
    "    \n",
    "    def get_all_queue_data(self):\n",
    "        return {'data':self.queue_data, 'front':self.front_index, 'rear':self.rear_index}"
   ]
  },
  {
   "cell_type": "code",
   "execution_count": 6,
   "metadata": {},
   "outputs": [],
   "source": [
    "cirQueue = CircularQueue(size=3)"
   ]
  },
  {
   "cell_type": "code",
   "execution_count": 7,
   "metadata": {},
   "outputs": [
    {
     "name": "stdout",
     "output_type": "stream",
     "text": [
      "[2, None, None] front 0 rear 0\n",
      "[2, 4, None] front 0 rear 1\n",
      "[2, 4, 8] front 0 rear 2\n"
     ]
    }
   ],
   "source": [
    "cirQueue.enqueue(2)\n",
    "cirQueue.enqueue(4)\n",
    "cirQueue.enqueue(8)"
   ]
  },
  {
   "cell_type": "code",
   "execution_count": 9,
   "metadata": {},
   "outputs": [
    {
     "name": "stdout",
     "output_type": "stream",
     "text": [
      "[None, None, 8] front 2 rear 2\n"
     ]
    },
    {
     "data": {
      "text/plain": [
       "4"
      ]
     },
     "execution_count": 9,
     "metadata": {},
     "output_type": "execute_result"
    }
   ],
   "source": [
    "cirQueue.dequeue()"
   ]
  },
  {
   "cell_type": "code",
   "execution_count": 13,
   "metadata": {},
   "outputs": [
    {
     "name": "stdout",
     "output_type": "stream",
     "text": [
      "Queue overflow\n",
      "[9, 10, 8] front 2 rear 1\n"
     ]
    }
   ],
   "source": [
    "cirQueue.enqueue(12)"
   ]
  },
  {
   "cell_type": "code",
   "execution_count": 103,
   "metadata": {},
   "outputs": [
    {
     "data": {
      "text/plain": [
       "{'data': [None, None, None, None, None], 'front': -1, 'rear': -1}"
      ]
     },
     "execution_count": 103,
     "metadata": {},
     "output_type": "execute_result"
    }
   ],
   "source": [
    "cirQueue.get_all_queue_data()"
   ]
  }
 ],
 "metadata": {
  "kernelspec": {
   "display_name": "Python 3",
   "language": "python",
   "name": "python3"
  },
  "language_info": {
   "codemirror_mode": {
    "name": "ipython",
    "version": 3
   },
   "file_extension": ".py",
   "mimetype": "text/x-python",
   "name": "python",
   "nbconvert_exporter": "python",
   "pygments_lexer": "ipython3",
   "version": "3.11.8"
  }
 },
 "nbformat": 4,
 "nbformat_minor": 2
}
