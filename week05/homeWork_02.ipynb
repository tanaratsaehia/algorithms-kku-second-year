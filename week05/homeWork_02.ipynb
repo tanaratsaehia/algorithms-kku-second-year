{
 "cells": [
  {
   "cell_type": "code",
   "execution_count": null,
   "metadata": {},
   "outputs": [],
   "source": [
    "class CircularQueue():\n",
    "    def __init__(self, size=3):\n",
    "        self.__q_size = size\n",
    "        self.front_index = -1\n",
    "        self.rear_index = -1\n",
    "        self.queue_data = [None]*size\n",
    "    \n",
    "    def enqueue(self, x):\n",
    "        if self.rear_index >= self.__q_size - 1:\n",
    "            print(\"Queue overflow\")\n",
    "            return\n",
    "        else:\n",
    "            self.rear_index += 1\n",
    "            self.queue_data[self.rear_index] = x\n",
    "            \n",
    "            if self.front_index == -1:\n",
    "                self.front_index = 0\n",
    "            else:\n",
    "                self.front_index += 1\n",
    "    \n",
    "    def dequeue(self):\n",
    "        "
   ]
  },
  {
   "cell_type": "code",
   "execution_count": 3,
   "metadata": {},
   "outputs": [
    {
     "data": {
      "text/plain": [
       "[None, None, None, None]"
      ]
     },
     "execution_count": 3,
     "metadata": {},
     "output_type": "execute_result"
    }
   ],
   "source": []
  }
 ],
 "metadata": {
  "kernelspec": {
   "display_name": "Python 3",
   "language": "python",
   "name": "python3"
  },
  "language_info": {
   "codemirror_mode": {
    "name": "ipython",
    "version": 3
   },
   "file_extension": ".py",
   "mimetype": "text/x-python",
   "name": "python",
   "nbconvert_exporter": "python",
   "pygments_lexer": "ipython3",
   "version": "3.11.8"
  }
 },
 "nbformat": 4,
 "nbformat_minor": 2
}
