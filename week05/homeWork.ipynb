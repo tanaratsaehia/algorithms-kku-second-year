{
 "cells": [
  {
   "cell_type": "code",
   "execution_count": 24,
   "metadata": {},
   "outputs": [
    {
     "name": "stdout",
     "output_type": "stream",
     "text": [
      "step 1 push 10.0 into stack\n",
      "step 2 push 2.0 into stack\n",
      "step 3 calculate with : 10.0 / 2.0\n",
      "step 4 push 2.0 into stack\n",
      "step 5 calculate with : 5.0 - 2.0\n",
      "step 6 push 2.0 into stack\n",
      "step 7 calculate with : 3.0 * 2.0\n",
      "step 8 push 2.0 into stack\n",
      "step 9 calculate with : 6.0 + 2.0\n",
      "result is 8.0\n"
     ]
    }
   ],
   "source": [
    "input_stack = \"10,2,/,2,-,2,*,2,+\"\n",
    "stack = input_stack.split(\",\")\n",
    "\n",
    "size_data = 3\n",
    "stack_data = [None] * size_data\n",
    "top_index = -1\n",
    "\n",
    "def push(x):\n",
    "    global top_index\n",
    "    if top_index >= size_data-1:\n",
    "        print(\"stack overflow\")\n",
    "    else:\n",
    "        top_index += 1\n",
    "        stack_data[top_index] = x\n",
    "\n",
    "def pop():\n",
    "    global top_index\n",
    "    if top_index == -1:\n",
    "        print(\"stack underflow\")\n",
    "    else:\n",
    "        return_data = stack_data[top_index]\n",
    "        stack_data[top_index] = None\n",
    "        top_index -= 1\n",
    "        return return_data\n",
    "\n",
    "def calculate_num_postfix(postfix_data):\n",
    "    postfix_data = postfix_data.split(\",\")\n",
    "    \n",
    "    for i in range(len(postfix_data)):\n",
    "        try:\n",
    "            postfix_data[i] = float(postfix_data[i])\n",
    "        except:\n",
    "            pass\n",
    "        \n",
    "        if type(postfix_data[i]) == float:\n",
    "            print(\"step\",i+1,\"push\",postfix_data[i],\"into stack\")\n",
    "            push(postfix_data[i])\n",
    "        elif type(postfix_data[i]) == str:\n",
    "            operand_2 = pop()\n",
    "            operand_1 = pop()\n",
    "            \n",
    "            if postfix_data[i] == \"+\":\n",
    "                result = operand_1 + operand_2\n",
    "                print(\"step\",i+1,\"calculate with :\",operand_1,\"+\",operand_2)\n",
    "                push(result)\n",
    "            elif postfix_data[i] == \"-\":\n",
    "                result = operand_1 - operand_2\n",
    "                print(\"step\",i+1,\"calculate with :\",operand_1,\"-\",operand_2)\n",
    "                push(result)\n",
    "            elif postfix_data[i] == \"*\":\n",
    "                result = operand_1 * operand_2\n",
    "                print(\"step\",i+1,\"calculate with :\",operand_1,\"*\",operand_2)\n",
    "                push(result)\n",
    "            elif postfix_data[i] == \"/\":\n",
    "                result = operand_1 / operand_2\n",
    "                print(\"step\",i+1,\"calculate with :\",operand_1,\"/\",operand_2)\n",
    "                push(result)\n",
    "            else:\n",
    "                print(\"invalid operator\")\n",
    "                return\n",
    "    print(\"final result is\",pop())\n",
    "\n",
    "calculate_num_postfix(input_stack)"
   ]
  }
 ],
 "metadata": {
  "kernelspec": {
   "display_name": "Python 3",
   "language": "python",
   "name": "python3"
  },
  "language_info": {
   "codemirror_mode": {
    "name": "ipython",
    "version": 3
   },
   "file_extension": ".py",
   "mimetype": "text/x-python",
   "name": "python",
   "nbconvert_exporter": "python",
   "pygments_lexer": "ipython3",
   "version": "3.11.8"
  }
 },
 "nbformat": 4,
 "nbformat_minor": 2
}
