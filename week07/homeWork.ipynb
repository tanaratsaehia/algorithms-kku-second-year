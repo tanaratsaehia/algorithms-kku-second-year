{
 "cells": [
  {
   "cell_type": "code",
   "execution_count": null,
   "metadata": {},
   "outputs": [],
   "source": [
    "# doubly linked list"
   ]
  },
  {
   "cell_type": "code",
   "execution_count": 142,
   "metadata": {},
   "outputs": [],
   "source": [
    "from tabulate import tabulate\n",
    "\n",
    "class Node():\n",
    "    def __init__(self, data:any) -> None:\n",
    "        self.data = data\n",
    "        self.next = None\n",
    "        self.previous = None\n",
    "\n",
    "class QLinkList():\n",
    "    def __init__(self, size=None) -> None:\n",
    "        self.head = None\n",
    "        self.tail = None\n",
    "        self.size = size\n",
    "        self.counter = 0\n",
    "    \n",
    "    def enqueue(self, data:any) -> None:\n",
    "        \"\"\"just enqueue put new data to end of queue\"\"\"\n",
    "        temp = Node(data)\n",
    "        if self.head == None:\n",
    "            self.head = temp\n",
    "            self.tail = self.head\n",
    "            self.counter += 1\n",
    "        else:\n",
    "            if self.size == self.counter:\n",
    "                print(\"ERR : Queue over flow\")\n",
    "                return\n",
    "            temp.previous = self.tail\n",
    "            self.tail.next = temp\n",
    "            self.tail = self.tail.next\n",
    "            self.counter += 1\n",
    "    \n",
    "    def dequeue(self) -> any:\n",
    "        \"\"\"just dequeue return data in front of queue\"\"\"\n",
    "        temp = self.head\n",
    "        data = temp.data\n",
    "        if self.head == None:\n",
    "            print(\"ERR : Queue under flow\")\n",
    "            return\n",
    "        else:\n",
    "            self.head = self.head.next\n",
    "            self.head.previous = None\n",
    "            self.counter -= 1\n",
    "            del temp\n",
    "            return data\n",
    "    \n",
    "    def insert(self, data:any, where:int) -> bool:\n",
    "        \"\"\"where mean what index of data you wanna put new data in front of it\"\"\"\n",
    "        new = Node(data)\n",
    "        if where > 0:\n",
    "            current = self.head\n",
    "            previous = current\n",
    "            for _ in range(where):\n",
    "                previous = current\n",
    "                if current.next == None:\n",
    "                    print(\"ERR : index out of range\")\n",
    "                    return False\n",
    "                else:\n",
    "                    current = current.next\n",
    "            previous.next = new\n",
    "            new.previous = previous\n",
    "            new.next = current\n",
    "            current.previous = new\n",
    "            self.counter += 1\n",
    "            return True\n",
    "        elif where == 0:\n",
    "            previous = self.head\n",
    "            previous.previous = new\n",
    "            self.head = new\n",
    "            self.head.next = previous\n",
    "            self.counter += 1\n",
    "            return True\n",
    "        else:\n",
    "            print(\"ERR : index should be >= 0\")\n",
    "            return False\n",
    "    \n",
    "    def update(self, data:any, where:int) -> bool:\n",
    "        \"\"\"where mean what index of data you wanna update it\"\"\"\n",
    "        if where > 0:\n",
    "            temp = self.head\n",
    "            for _ in range(where):\n",
    "                temp = temp.next\n",
    "                if temp == None:\n",
    "                    print(\"ERR : index out of range\")\n",
    "                    return False\n",
    "            temp.data = data\n",
    "            return True\n",
    "        elif where == 0:\n",
    "            self.head.data = data\n",
    "            return True\n",
    "        else:\n",
    "            print(\"ERR : index should be >= 0\")\n",
    "            return False\n",
    "    \n",
    "    def delete(self, where:int) -> bool:\n",
    "        \"\"\"where mean what index of data you wanna delete it\"\"\"\n",
    "        if where > 0:\n",
    "            current = self.head\n",
    "            temp = current\n",
    "            for _ in range(where):\n",
    "                temp = current\n",
    "                current = current.next\n",
    "                if current == None:\n",
    "                    print(\"ERR : index out of range\")\n",
    "                    return False\n",
    "            temp.next = current.next\n",
    "            return True\n",
    "        else:\n",
    "            print(\"ERR : index should be >= 0\")\n",
    "            return False\n",
    "    \n",
    "    def search(self, where:any) -> None:\n",
    "        \"\"\"where mean what kind of data you wanna find it\"\"\"\n",
    "        index = -1\n",
    "        current = self.head\n",
    "        table_data = [[\"Index\", \"Value\"]]\n",
    "        if current != None:\n",
    "            while current != None:\n",
    "                index += 1\n",
    "                if current.data == where:\n",
    "                    table_data.append([index, current.data])\n",
    "                current = current.next\n",
    "            if len(table_data) > 1:\n",
    "                print(\"Data found at\")\n",
    "                print(tabulate(table_data, headers='firstrow', tablefmt='fancy_grid'))\n",
    "                return\n",
    "        print(\"ERR : can't match data (\"+str(where)+\") in queue\")\n",
    "    \n",
    "    def displayQ(self, reverse:bool=False) -> None:\n",
    "        \"\"\"show all data in queue\"\"\"\n",
    "        if reverse:\n",
    "            if self.tail != None:\n",
    "                table_data = [['Index', 'Value']]\n",
    "                current = self.tail\n",
    "                index = self.counter\n",
    "                while current != None:\n",
    "                    index -= 1\n",
    "                    table_data.append([index, current.data])\n",
    "                    current = current.previous\n",
    "                print(tabulate(table_data, headers='firstrow', tablefmt='fancy_grid'))\n",
    "            else:\n",
    "                print(\"ERR : Queue is empty\")\n",
    "        else:\n",
    "            if self.head != None:\n",
    "                table_data = [['Index', 'Value']]\n",
    "                current = self.head\n",
    "                index = -1\n",
    "                while current != None:\n",
    "                    index += 1\n",
    "                    table_data.append([index, current.data])\n",
    "                    current = current.next\n",
    "                print(tabulate(table_data, headers='firstrow', tablefmt='fancy_grid'))\n",
    "            else:\n",
    "                print(\"ERR : Queue is empty\")"
   ]
  },
  {
   "cell_type": "code",
   "execution_count": 152,
   "metadata": {},
   "outputs": [],
   "source": [
    "queue = QLinkList(size=5)"
   ]
  },
  {
   "cell_type": "code",
   "execution_count": 153,
   "metadata": {},
   "outputs": [],
   "source": [
    "queue.enqueue(1)\n",
    "queue.enqueue(2)\n",
    "queue.enqueue(3)\n",
    "queue.enqueue(4)\n",
    "queue.enqueue(5)"
   ]
  },
  {
   "cell_type": "code",
   "execution_count": 154,
   "metadata": {},
   "outputs": [
    {
     "name": "stdout",
     "output_type": "stream",
     "text": [
      "ERR : Queue over flow\n"
     ]
    }
   ],
   "source": [
    "queue.enqueue(6)"
   ]
  },
  {
   "cell_type": "code",
   "execution_count": 165,
   "metadata": {},
   "outputs": [
    {
     "name": "stdout",
     "output_type": "stream",
     "text": [
      "╒═════════╤═════════╕\n",
      "│   Index │   Value │\n",
      "╞═════════╪═════════╡\n",
      "│       0 │       1 │\n",
      "├─────────┼─────────┤\n",
      "│       1 │       2 │\n",
      "├─────────┼─────────┤\n",
      "│       2 │       3 │\n",
      "├─────────┼─────────┤\n",
      "│       3 │      88 │\n",
      "├─────────┼─────────┤\n",
      "│       4 │       4 │\n",
      "├─────────┼─────────┤\n",
      "│       5 │       5 │\n",
      "╘═════════╧═════════╛\n"
     ]
    }
   ],
   "source": [
    "queue.displayQ()"
   ]
  },
  {
   "cell_type": "code",
   "execution_count": 164,
   "metadata": {},
   "outputs": [
    {
     "name": "stdout",
     "output_type": "stream",
     "text": [
      "╒═════════╤═════════╕\n",
      "│   Index │   Value │\n",
      "╞═════════╪═════════╡\n",
      "│       5 │       5 │\n",
      "├─────────┼─────────┤\n",
      "│       4 │       4 │\n",
      "├─────────┼─────────┤\n",
      "│       3 │      88 │\n",
      "├─────────┼─────────┤\n",
      "│       2 │       3 │\n",
      "├─────────┼─────────┤\n",
      "│       1 │       2 │\n",
      "├─────────┼─────────┤\n",
      "│       0 │       1 │\n",
      "╘═════════╧═════════╛\n"
     ]
    }
   ],
   "source": [
    "queue.displayQ(reverse=True)"
   ]
  },
  {
   "cell_type": "code",
   "execution_count": 163,
   "metadata": {},
   "outputs": [
    {
     "data": {
      "text/plain": [
       "True"
      ]
     },
     "execution_count": 163,
     "metadata": {},
     "output_type": "execute_result"
    }
   ],
   "source": [
    "queue.insert(88, 3)"
   ]
  },
  {
   "cell_type": "code",
   "execution_count": 160,
   "metadata": {},
   "outputs": [
    {
     "data": {
      "text/plain": [
       "88"
      ]
     },
     "execution_count": 160,
     "metadata": {},
     "output_type": "execute_result"
    }
   ],
   "source": [
    "queue.dequeue()"
   ]
  }
 ],
 "metadata": {
  "kernelspec": {
   "display_name": "Python 3",
   "language": "python",
   "name": "python3"
  },
  "language_info": {
   "codemirror_mode": {
    "name": "ipython",
    "version": 3
   },
   "file_extension": ".py",
   "mimetype": "text/x-python",
   "name": "python",
   "nbconvert_exporter": "python",
   "pygments_lexer": "ipython3",
   "version": "3.11.8"
  }
 },
 "nbformat": 4,
 "nbformat_minor": 2
}
