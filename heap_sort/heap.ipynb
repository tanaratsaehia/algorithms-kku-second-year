{
 "cells": [
  {
   "cell_type": "code",
   "execution_count": 2,
   "metadata": {},
   "outputs": [
    {
     "name": "stdout",
     "output_type": "stream",
     "text": [
      "Sorted array is: [0, 5, 6, 7, 12, 13]\n"
     ]
    }
   ],
   "source": [
    "def heapify(arr, n, i):\n",
    "    largest = i\n",
    "    while True:\n",
    "        # คำนวณหา index ของโหนดลูกทางซ้ายและขวา\n",
    "        left = 2 * i + 1\n",
    "        right = 2 * i + 2\n",
    "        \n",
    "        # Check if left child exists and is greater than the root\n",
    "        # ตรวจสอบโหนดลูกฝั่งซ้ายว่ามากกว่าโหนดแม่หรือไม่\n",
    "        if left < n and arr[left] > arr[largest]:\n",
    "            largest = left\n",
    "\n",
    "        # Check if right child exists and is greater than the current largest\n",
    "        if right < n and arr[right] > arr[largest]:\n",
    "            largest = right\n",
    "\n",
    "        # If the root is already the largest, we're done\n",
    "        if largest == i:\n",
    "            break\n",
    "        \n",
    "        # Swap the root with the largest child\n",
    "        arr[i], arr[largest] = arr[largest], arr[i]\n",
    "        \n",
    "        # Continue heapifying down the subtree\n",
    "        i = largest\n",
    "\n",
    "# Main function to perform heap sort\n",
    "def heap_sort(arr):\n",
    "    n = len(arr)\n",
    "\n",
    "    # Build a maxheap\n",
    "    for i in range(n // 2 - 1, -1, -1):\n",
    "        heapify(arr, n, i)\n",
    "\n",
    "    # Extract elements one by one\n",
    "    for i in range(n - 1, 0, -1):\n",
    "        arr[i], arr[0] = arr[0], arr[i]  # swap\n",
    "        heapify(arr, i, 0)\n",
    "\n",
    "# Example usage\n",
    "arr = [12, 0, 13, 5, 6, 7]\n",
    "heap_sort(arr)\n",
    "print(\"Sorted array is:\", arr)\n"
   ]
  },
  {
   "cell_type": "code",
   "execution_count": 40,
   "metadata": {},
   "outputs": [],
   "source": [
    "# จัดโครงสร้าง heap เพื่อให้เป็น max heap โดยตรวจสอบจากโหนดแม่และโหนดลูก\n",
    "def heapify(arr, n, i):\n",
    "    largest = i  # กำหนดให้โหนดแม่ (i) เป็นค่าที่มากที่สุดในเบื้องต้น\n",
    "    left = 2 * i + 1  # คำนวณหา index ของโหนดลูกฝั่งซ้าย\n",
    "    right = 2 * i + 2  # คำนวณหา index ของโหนดลูกฝั่งขวา\n",
    "\n",
    "    # ตรวจสอบว่าโหนดลูกฝั่งซ้ายมีค่ามากกว่าโหนดแม่หรือไม่\n",
    "    if left < n and arr[left] > arr[largest]:\n",
    "        largest = left\n",
    "\n",
    "    # ตรวจสอบว่าโหนดลูกฝั่งขวามีค่ามากกว่าโหนดที่มากที่สุด ณ ตอนนี้หรือไม่\n",
    "    if right < n and arr[right] > arr[largest]:\n",
    "        largest = right\n",
    "\n",
    "    # หากโหนดที่มีค่ามากที่สุดไม่ใช่โหนดแม่ ให้สลับค่าระหว่างโหนดแม่กับโหนดลูกที่มีค่ามากกว่า\n",
    "    if largest != i:\n",
    "        arr[i], arr[largest] = arr[largest], arr[i]\n",
    "        \n",
    "        # เรียกใช้ heapify เพื่อจัดโครงสร้าง heap ต่อในส่วนของโหนดลูกที่เพิ่งสลับตำแหน่งไป\n",
    "        heapify(arr, n, largest)\n",
    "\n",
    "\n",
    "# เรียงลำดับอาเรย์โดยใช้การจัดเรียงแบบ heap sort\n",
    "def heap_sort(arr):\n",
    "    n = len(arr) \n",
    "\n",
    "    # Step 1: สร้าง max heap โดยทำการ heapify กับทุกโหนดที่ไม่ใช่โหนดใบ\n",
    "    for i in range(n // 2 - 1, -1, -1):\n",
    "        heapify(arr, n, i)\n",
    "\n",
    "    # Step 2: สลับค่าของโหนดที่มีค่ามากที่สุด (โหนดแรก) กับตำแหน่งสุดท้ายใน array\n",
    "    # แล้วลดขนาดของ heap ลงทีละ 1 เพื่อเรียงลำดับ\n",
    "    for i in range(n - 1, 0, -1):\n",
    "        arr[i], arr[0] = arr[0], arr[i]  # สลับค่าโหนดแรกที่มีค่ามากที่สุดไปตำแหน่งสุดท้าย\n",
    "        heapify(arr, i, 0)  # เรียกใช้ heapify กับส่วนที่เหลือของ heap"
   ]
  },
  {
   "cell_type": "code",
   "execution_count": 44,
   "metadata": {},
   "outputs": [
    {
     "name": "stdout",
     "output_type": "stream",
     "text": [
      "Original array: [4, 10, 3, 5, 1, 9, 30, 4, 8, 42, 17, 5]\n",
      "Sorted array: [1, 3, 4, 4, 5, 5, 8, 9, 10, 17, 30, 42]\n"
     ]
    }
   ],
   "source": [
    "arr = [4, 10, 3, 5, 1, 9, 30, 4, 8, 42, 17, 5]\n",
    "print(\"Original array:\", arr)\n",
    "heap_sort(arr)\n",
    "print(\"Sorted array:\", arr)"
   ]
  }
 ],
 "metadata": {
  "kernelspec": {
   "display_name": "Python 3",
   "language": "python",
   "name": "python3"
  },
  "language_info": {
   "codemirror_mode": {
    "name": "ipython",
    "version": 3
   },
   "file_extension": ".py",
   "mimetype": "text/x-python",
   "name": "python",
   "nbconvert_exporter": "python",
   "pygments_lexer": "ipython3",
   "version": "3.11.8"
  }
 },
 "nbformat": 4,
 "nbformat_minor": 2
}
